{
 "cells": [
  {
   "cell_type": "markdown",
   "metadata": {},
   "source": [
    "# 使用Autograd来自动求导\n",
    "\n",
    "- 给需要求梯度的变量增加梯度存储空间\n",
    "- 在record()内对变量进行运算\n",
    "- 增加头梯度\n",
    "- Python中的`with`是怎么回事"
   ]
  },
  {
   "cell_type": "code",
   "execution_count": 1,
   "metadata": {
    "ExecuteTime": {
     "end_time": "2017-11-27T04:23:00.566591Z",
     "start_time": "2017-11-27T04:22:59.952761Z"
    },
    "collapsed": true
   },
   "outputs": [],
   "source": [
    "import mxnet as mx\n",
    "import mxnet.ndarray as nd\n",
    "import mxnet.autograd as ag"
   ]
  },
  {
   "cell_type": "markdown",
   "metadata": {},
   "source": [
    "## 简单的自动梯度计算\n",
    "\n",
    "计算$f(x)$对x的梯度\n",
    "\n",
    "$$f(x)= \\text{sigmoid}(x) = \\frac{1}{1+e^{-x}}$$\n",
    "\n",
    "其中x是一个NDArray的tensor"
   ]
  },
  {
   "cell_type": "code",
   "execution_count": 2,
   "metadata": {
    "ExecuteTime": {
     "end_time": "2017-11-27T04:23:00.571770Z",
     "start_time": "2017-11-27T04:23:00.568581Z"
    },
    "collapsed": true
   },
   "outputs": [],
   "source": [
    "def f(x):\n",
    "    return 1 / (1 + nd.exp(-x))"
   ]
  },
  {
   "cell_type": "code",
   "execution_count": 3,
   "metadata": {
    "ExecuteTime": {
     "end_time": "2017-11-27T04:23:01.047225Z",
     "start_time": "2017-11-27T04:23:00.573534Z"
    }
   },
   "outputs": [
    {
     "data": {
      "image/png": "[encoded data removed]",
      "text/plain": [
       "<matplotlib.figure.Figure at 0x7f3799b21080>"
      ]
     },
     "metadata": {},
     "output_type": "display_data"
    }
   ],
   "source": [
    "import matplotlib.pyplot as plt\n",
    "x = nd.arange(-10,10,1)\n",
    "y = f(x)\n",
    "plt.plot(x.asnumpy(), y.asnumpy())\n",
    "plt.show()"
   ]
  },
  {
   "cell_type": "code",
   "execution_count": 4,
   "metadata": {
    "ExecuteTime": {
     "end_time": "2017-11-27T04:23:01.096436Z",
     "start_time": "2017-11-27T04:23:01.049396Z"
    }
   },
   "outputs": [
    {
     "data": {
      "text/plain": [
       "\n",
       "[ 0.00664806  0.01766271  0.04517666  0.10499358  0.19661194  0.25\n",
       "  0.19661197  0.10499357  0.04517666  0.01766271]\n",
       "<NDArray 10 @cpu(0)>"
      ]
     },
     "execution_count": 4,
     "metadata": {},
     "output_type": "execute_result"
    }
   ],
   "source": [
    "x = nd.arange(-5,5)\n",
    "x.attach_grad()\n",
    "with ag.record():\n",
    "    y = f(x)\n",
    "y.backward()\n",
    "x.grad"
   ]
  },
  {
   "cell_type": "markdown",
   "metadata": {},
   "source": [
    "## 头梯度的计算\n",
    "\n",
    "$$\\frac{dz}{dx} = \\frac{dz}{dy}\\cdot\\frac{dy}{dx}$$\n"
   ]
  },
  {
   "cell_type": "code",
   "execution_count": 5,
   "metadata": {
    "ExecuteTime": {
     "end_time": "2017-11-27T04:23:01.196399Z",
     "start_time": "2017-11-27T04:23:01.099137Z"
    }
   },
   "outputs": [
    {
     "data": {
      "text/plain": [
       "\n",
       "[ 0.00199646  0.00408136  0.04740518 -0.03405355 -0.00192459  0.18421559\n",
       "  0.33821863  0.04898624 -0.04848981  0.01550959]\n",
       "<NDArray 10 @cpu(0)>"
      ]
     },
     "execution_count": 5,
     "metadata": {},
     "output_type": "execute_result"
    }
   ],
   "source": [
    "x = nd.arange(-5,5)\n",
    "x.attach_grad()\n",
    "with ag.record():\n",
    "    y = f(x)\n",
    "y_gradinet = nd.random_normal(0, 1, shape=y.shape)\n",
    "y.backward(y_gradinet)\n",
    "x.grad"
   ]
  },
  {
   "cell_type": "markdown",
   "metadata": {},
   "source": [
    "## BatchNorm的梯度计算"
   ]
  },
  {
   "cell_type": "code",
   "execution_count": 6,
   "metadata": {
    "ExecuteTime": {
     "end_time": "2017-11-27T04:23:01.437957Z",
     "start_time": "2017-11-27T04:23:01.199270Z"
    },
    "collapsed": true
   },
   "outputs": [],
   "source": [
    "import mxnet as md\n",
    "import mxnet.ndarray as nd\n",
    "def spatial_batchnorm(x, gamma, beta):\n",
    "    \"\"\"\n",
    "    Inputs:\n",
    "    - x: Input data of shape (N, C, H, W)\n",
    "    - gamma: Scale parameter of shape (C,)\n",
    "    - beta: Shift parameter of shape (C,)\n",
    "    \n",
    "    Returns\n",
    "    -out: output data, of shape(N, C, H, W)\n",
    "    \"\"\"\n",
    "    x_trans = x.transpose(axes=(0,2,3,1)).reshape((-1, x.shape[1]))\n",
    "    mean = nd.mean(x_trans, axis=0)\n",
    "    var = nd.mean((x_trans - mean)**2, axis=0)\n",
    "    out = (x_trans - mean) / nd.sqrt(var) * gamma + beta\n",
    "    out = out.reshape((x.shape[0], x.shape[2], x.shape[3], x.shape[1]))                                   \n",
    "    return nd.transpose(out, axes=(0,3,1,2))"
   ]
  },
  {
   "cell_type": "code",
   "execution_count": 7,
   "metadata": {
    "ExecuteTime": {
     "end_time": "2017-11-27T04:23:01.582334Z",
     "start_time": "2017-11-27T04:23:01.441715Z"
    },
    "collapsed": true
   },
   "outputs": [],
   "source": [
    "x = nd.random_normal(0, 1, shape=(1, 64, 224, 224))\n",
    "gamma = nd.random_normal(0, 1, shape=(64,))\n",
    "beta = nd.random_normal(0, 1, shape=(64,))\n",
    "x.attach_grad()"
   ]
  },
  {
   "cell_type": "code",
   "execution_count": 8,
   "metadata": {
    "ExecuteTime": {
     "end_time": "2017-11-27T04:23:02.644651Z",
     "start_time": "2017-11-27T04:23:01.586452Z"
    }
   },
   "outputs": [
    {
     "data": {
      "text/plain": [
       "\n",
       "[[[[  6.78542449e-08   5.46346506e-08   6.52816183e-08 ...,\n",
       "      5.58515794e-08   6.05863306e-08   5.31665769e-08]\n",
       "   [  5.98560348e-08   6.46377174e-08   6.08461619e-08 ...,\n",
       "      7.36265235e-08   6.06228028e-08   5.31733306e-08]\n",
       "   [  5.59937874e-08   5.38107159e-08   6.05352000e-08 ...,\n",
       "      6.05112831e-08   5.15072394e-08   4.98415496e-08]\n",
       "   ..., \n",
       "   [  6.25783230e-08   5.35891154e-08   5.89680980e-08 ...,\n",
       "      6.04450818e-08   6.57511166e-08   5.53022268e-08]\n",
       "   [  5.55349544e-08   5.21602885e-08   5.37953575e-08 ...,\n",
       "      7.05650365e-08   4.47012987e-08   5.60945104e-08]\n",
       "   [  6.32689563e-08   6.27494359e-08   5.42643690e-08 ...,\n",
       "      5.68156047e-08   5.67967575e-08   5.96532956e-08]]\n",
       "\n",
       "  [[  8.44944292e-09   9.07673670e-09   1.39759466e-08 ...,\n",
       "      1.00359934e-08  -5.59806923e-10  -8.53592752e-09]\n",
       "   [  1.25006956e-08   1.48616062e-08   8.41612025e-09 ...,\n",
       "      6.65064270e-09   1.97799928e-08   1.64961056e-09]\n",
       "   [ -9.89707649e-10   1.68476184e-08  -4.06387007e-10 ...,\n",
       "      1.44381607e-09  -2.72006906e-09   1.55922013e-08]\n",
       "   ..., \n",
       "   [ -5.86041349e-09  -1.13112621e-08  -1.34585338e-08 ...,\n",
       "     -3.91329547e-09   2.70912750e-08   1.45119348e-08]\n",
       "   [  2.05276063e-08  -2.80741852e-09   7.64067654e-09 ...,\n",
       "     -2.63946776e-09   1.95004901e-08   9.33520017e-09]\n",
       "   [  1.34258666e-08   2.89053794e-08  -1.13819603e-08 ...,\n",
       "      2.23593730e-08   7.74242270e-09  -1.85131093e-08]]\n",
       "\n",
       "  [[ -8.33504643e-09  -6.20817620e-09   7.48217754e-09 ...,\n",
       "      4.13673273e-09   3.39428430e-10   7.09402981e-10]\n",
       "   [  9.19623400e-09   5.90584515e-09  -5.26246735e-09 ...,\n",
       "     -3.65853015e-09   3.68268838e-09   4.71035033e-09]\n",
       "   [ -4.18346202e-09   1.69505876e-09  -2.99107139e-09 ...,\n",
       "     -3.20901283e-09  -1.25376740e-08  -2.16068896e-09]\n",
       "   ..., \n",
       "   [  9.83660353e-09  -4.48523929e-09  -1.19185795e-09 ...,\n",
       "      8.60481819e-09  -8.69064642e-09   2.24605468e-09]\n",
       "   [  1.91674960e-08   1.30461233e-08  -5.15152543e-09 ...,\n",
       "      8.78085515e-09   3.60250746e-10  -1.24550747e-09]\n",
       "   [  3.54835716e-09   1.58487379e-09   6.30571995e-09 ...,\n",
       "     -8.15305068e-09   2.20430341e-09   6.07834982e-09]]\n",
       "\n",
       "  ..., \n",
       "  [[  2.33878539e-09  -6.63140265e-10   1.20722898e-09 ...,\n",
       "     -2.33171149e-09   1.75269632e-09  -4.30870228e-09]\n",
       "   [ -9.11662273e-11   5.57966962e-09  -7.72101827e-10 ...,\n",
       "      1.93162175e-09   1.78864701e-09   1.88242755e-09]\n",
       "   [ -9.41763201e-09  -6.50727972e-10   6.23221308e-10 ...,\n",
       "     -1.50644497e-09  -1.04537168e-09   2.63298228e-09]\n",
       "   ..., \n",
       "   [  5.63109948e-10   2.55063548e-09   2.17505680e-09 ...,\n",
       "      3.63795172e-09  -3.58697161e-09   2.30573849e-09]\n",
       "   [ -2.03968398e-09  -5.27485966e-09   3.93116872e-09 ...,\n",
       "      2.69817968e-09  -3.61718078e-09   1.29080313e-09]\n",
       "   [ -2.29087471e-10  -3.98801020e-10   4.24794289e-09 ...,\n",
       "      2.37390019e-09  -8.79157303e-10   2.96034552e-09]]\n",
       "\n",
       "  [[ -1.20834784e-07  -1.09111411e-07  -1.12681143e-07 ...,\n",
       "     -1.14262207e-07  -1.07309873e-07  -1.24407549e-07]\n",
       "   [ -1.13378263e-07  -1.16530288e-07  -1.23427384e-07 ...,\n",
       "     -1.14630666e-07  -1.11124955e-07  -1.30885851e-07]\n",
       "   [ -1.11397483e-07  -1.18600838e-07  -1.30435296e-07 ...,\n",
       "     -1.24061813e-07  -1.14998656e-07  -1.25854896e-07]\n",
       "   ..., \n",
       "   [ -1.22935660e-07  -1.28081936e-07  -1.35753609e-07 ...,\n",
       "     -1.15007779e-07  -1.27472418e-07  -1.21607243e-07]\n",
       "   [ -1.22670954e-07  -1.31746589e-07  -1.16018455e-07 ...,\n",
       "     -1.26220002e-07  -1.21349686e-07  -1.24905512e-07]\n",
       "   [ -1.21567666e-07  -1.16667046e-07  -1.17538256e-07 ...,\n",
       "     -1.20516617e-07  -1.18562696e-07  -1.13393902e-07]]\n",
       "\n",
       "  [[  1.26391320e-09  -3.98916150e-10   1.24649124e-10 ...,\n",
       "     -6.50380250e-10  -1.44960843e-09  -7.52506502e-10]\n",
       "   [ -3.76637388e-10  -1.99454941e-09   7.03048397e-10 ...,\n",
       "     -1.33376910e-09   1.53510082e-09  -4.51462270e-11]\n",
       "   [  6.39997277e-10   4.85987195e-10  -8.15511634e-12 ...,\n",
       "     -4.18280965e-10  -1.47795265e-09  -1.36840017e-09]\n",
       "   ..., \n",
       "   [ -2.55935784e-09   8.51107129e-10   3.10777160e-09 ...,\n",
       "      1.47184390e-10  -1.95670391e-09  -4.06875089e-10]\n",
       "   [  6.04702954e-10   1.12030107e-09   1.52509805e-09 ...,\n",
       "     -9.77950720e-10   1.48514345e-09  -1.67624981e-09]\n",
       "   [ -3.16325958e-11   1.16067200e-09   5.53416896e-11 ...,\n",
       "      2.59031729e-09  -5.63418312e-10   9.20822169e-11]]]]\n",
       "<NDArray 1x64x224x224 @cpu(0)>"
      ]
     },
     "execution_count": 8,
     "metadata": {},
     "output_type": "execute_result"
    }
   ],
   "source": [
    "with ag.record():\n",
    "    y = spatial_batchnorm(x, gamma, beta)\n",
    "y.backward()\n",
    "x.grad # 结果好像是不对的，MXNET能对transpose自动求导吗？"
   ]
  },
  {
   "cell_type": "code",
   "execution_count": 9,
   "metadata": {
    "ExecuteTime": {
     "end_time": "2017-11-27T04:23:02.654069Z",
     "start_time": "2017-11-27T04:23:02.648473Z"
    },
    "collapsed": true
   },
   "outputs": [],
   "source": [
    "def trans(x):\n",
    "    return x.transpose(axes=(0,2,1))"
   ]
  },
  {
   "cell_type": "code",
   "execution_count": 10,
   "metadata": {
    "ExecuteTime": {
     "end_time": "2017-11-27T04:23:02.902696Z",
     "start_time": "2017-11-27T04:23:02.657846Z"
    },
    "collapsed": true
   },
   "outputs": [],
   "source": [
    "x = nd.ones((1,2,3))\n",
    "x.attach_grad()"
   ]
  },
  {
   "cell_type": "code",
   "execution_count": 11,
   "metadata": {
    "ExecuteTime": {
     "end_time": "2017-11-27T04:23:03.046138Z",
     "start_time": "2017-11-27T04:23:02.906557Z"
    }
   },
   "outputs": [
    {
     "data": {
      "text/plain": [
       "\n",
       "[[[ 0.  1.]\n",
       "  [ 2.  3.]\n",
       "  [ 4.  5.]]]\n",
       "<NDArray 1x3x2 @cpu(0)>"
      ]
     },
     "execution_count": 11,
     "metadata": {},
     "output_type": "execute_result"
    }
   ],
   "source": [
    "with ag.record():\n",
    "    y = trans(x)\n",
    "y_grad = nd.arange(0, y.size).reshape(y.shape)\n",
    "y_grad"
   ]
  },
  {
   "cell_type": "code",
   "execution_count": 12,
   "metadata": {
    "ExecuteTime": {
     "end_time": "2017-11-27T04:23:03.182787Z",
     "start_time": "2017-11-27T04:23:03.049595Z"
    }
   },
   "outputs": [
    {
     "data": {
      "text/plain": [
       "\n",
       "[[[ 0.  2.  4.]\n",
       "  [ 1.  3.  5.]]]\n",
       "<NDArray 1x2x3 @cpu(0)>"
      ]
     },
     "execution_count": 12,
     "metadata": {},
     "output_type": "execute_result"
    }
   ],
   "source": [
    "y.backward(y_grad)\n",
    "x.grad"
   ]
  },
  {
   "cell_type": "markdown",
   "metadata": {},
   "source": [
    "# With语法的魔法是什么 \n",
    "\n",
    "深入的学习可以参考：[浅谈 Python 的 with 语句](http://python.jobbole.com/82494/)\n",
    "\n",
    "with后的那个对象是一个上下文管理器，定义了`__enter__`和`__exit__`两个方法，分别在进入with和离开with时调用，用于申请一些资源，以及处理一些资源释放问题。\n",
    "\n",
    "实际上相当于构成了一个局部的作用域。"
   ]
  },
  {
   "cell_type": "code",
   "execution_count": 13,
   "metadata": {
    "ExecuteTime": {
     "end_time": "2017-11-27T04:23:03.321567Z",
     "start_time": "2017-11-27T04:23:03.186252Z"
    }
   },
   "outputs": [],
   "source": [
    "class DummyResource:\n",
    "    def __init__(self, tag):\n",
    "        self.tag = tag\n",
    "        print ('Resource {}'.format(tag))\n",
    "        \n",
    "    def __enter__(self):\n",
    "        print ('[Enter {}]: Allocate resource.'.format(self.tag))\n",
    "        return self\n",
    "    \n",
    "    def __exit__(self, exc_type, exc_value, exc_tb):\n",
    "        print ('[Exit {}]: Free resource.'.format(self.tag))\n",
    "        if exc_tb is None:\n",
    "            print ('[Exit {}]: Exited without exception.'.format(self.tag))\n",
    "        else:\n",
    "            print ('[Exit {}]: Exited with exception raised.'.format(self.tag))\n",
    "            return False   # 可以省略，缺省的None也是被看做是False"
   ]
  },
  {
   "cell_type": "code",
   "execution_count": 14,
   "metadata": {
    "ExecuteTime": {
     "end_time": "2017-11-27T04:23:03.465364Z",
     "start_time": "2017-11-27T04:23:03.325104Z"
    }
   },
   "outputs": [
    {
     "name": "stdout",
     "output_type": "stream",
     "text": [
      "Resource MYCONTEXT\n",
      "[Enter MYCONTEXT]: Allocate resource.\n",
      "hello, world\n",
      "\n",
      "[Exit MYCONTEXT]: Free resource.\n",
      "[Exit MYCONTEXT]: Exited without exception.\n"
     ]
    }
   ],
   "source": [
    "with DummyResource('MYCONTEXT'):\n",
    "    print('hello, world\\n')"
   ]
  },
  {
   "cell_type": "code",
   "execution_count": 15,
   "metadata": {
    "ExecuteTime": {
     "end_time": "2017-11-27T04:23:03.755261Z",
     "start_time": "2017-11-27T04:23:03.468947Z"
    }
   },
   "outputs": [
    {
     "name": "stdout",
     "output_type": "stream",
     "text": [
      "Resource MYCONTEXT\n",
      "[Enter MYCONTEXT]: Allocate resource.\n",
      "hello, world\n",
      "\n",
      "[Exit MYCONTEXT]: Free resource.\n",
      "[Exit MYCONTEXT]: Exited with exception raised.\n"
     ]
    },
    {
     "ename": "Exception",
     "evalue": "",
     "output_type": "error",
     "traceback": [
      "\u001b[0;31m---------------------------------------------------------------------------\u001b[0m",
      "\u001b[0;31mException\u001b[0m                                 Traceback (most recent call last)",
      "\u001b[0;32m<ipython-input-15-101216de8a21>\u001b[0m in \u001b[0;36m<module>\u001b[0;34m()\u001b[0m\n\u001b[1;32m      1\u001b[0m \u001b[0;32mwith\u001b[0m \u001b[0mDummyResource\u001b[0m\u001b[0;34m(\u001b[0m\u001b[0;34m'MYCONTEXT'\u001b[0m\u001b[0;34m)\u001b[0m\u001b[0;34m:\u001b[0m\u001b[0;34m\u001b[0m\u001b[0m\n\u001b[1;32m      2\u001b[0m     \u001b[0mprint\u001b[0m\u001b[0;34m(\u001b[0m\u001b[0;34m'hello, world\\n'\u001b[0m\u001b[0;34m)\u001b[0m\u001b[0;34m\u001b[0m\u001b[0m\n\u001b[0;32m----> 3\u001b[0;31m     \u001b[0;32mraise\u001b[0m \u001b[0mException\u001b[0m\u001b[0;34m\u001b[0m\u001b[0m\n\u001b[0m",
      "\u001b[0;31mException\u001b[0m: "
     ]
    }
   ],
   "source": [
    "with DummyResource('MYCONTEXT'):\n",
    "    print('hello, world\\n')\n",
    "    raise Exception"
   ]
  }
 ],
 "metadata": {
  "kernelspec": {
   "display_name": "Python 3",
   "language": "python",
   "name": "python3"
  },
  "language_info": {
   "codemirror_mode": {
    "name": "ipython",
    "version": 3
   },
   "file_extension": ".py",
   "mimetype": "text/x-python",
   "name": "python",
   "nbconvert_exporter": "python",
   "pygments_lexer": "ipython3",
   "version": "3.6.2"
  }
 },
 "nbformat": 4,
 "nbformat_minor": 2
}
