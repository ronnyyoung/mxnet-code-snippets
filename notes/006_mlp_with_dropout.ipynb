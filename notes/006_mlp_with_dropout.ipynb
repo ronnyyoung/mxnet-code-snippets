{
 "cells": [
  {
   "cell_type": "code",
   "execution_count": 24,
   "metadata": {
    "ExecuteTime": {
     "end_time": "2017-12-06T03:27:12.058283Z",
     "start_time": "2017-12-06T03:27:12.052083Z"
    },
    "collapsed": true
   },
   "outputs": [],
   "source": [
    "import mxnet as mx\n",
    "import mxnet.autograd as ag"
   ]
  },
  {
   "cell_type": "code",
   "execution_count": 25,
   "metadata": {
    "ExecuteTime": {
     "end_time": "2017-12-06T03:27:13.609112Z",
     "start_time": "2017-12-06T03:27:12.890041Z"
    },
    "collapsed": true
   },
   "outputs": [],
   "source": [
    "from mxnet import gluon\n",
    "from mxnet import ndarray as nd\n",
    "\n",
    "def transform(data, label):\n",
    "    return data.astype('float32')/255, label.astype('float32')\n",
    "\n",
    "mnist_train = gluon.data.vision.FashionMNIST(train=True, transform=transform)\n",
    "mnist_test = gluon.data.vision.FashionMNIST(train=False, transform=transform)\n",
    "\n",
    "batch_size = 256\n",
    "train_data = gluon.data.DataLoader(mnist_train, batch_size, shuffle=True)\n",
    "test_data = gluon.data.DataLoader(mnist_test, batch_size, shuffle=False)"
   ]
  },
  {
   "cell_type": "code",
   "execution_count": 26,
   "metadata": {
    "ExecuteTime": {
     "end_time": "2017-12-06T03:27:23.160157Z",
     "start_time": "2017-12-06T03:27:21.351752Z"
    },
    "collapsed": true
   },
   "outputs": [],
   "source": [
    "num_inputs = 784\n",
    "num_outputs = 10\n",
    "num_hidden = 250\n",
    "\n",
    "W1 = nd.random_normal(0, 0.01, shape=(num_inputs, num_hidden), ctx=mx.gpu())\n",
    "b1 = nd.zeros((num_hidden,), ctx=mx.gpu())\n",
    "\n",
    "W2 = nd.random_normal(0, 0.01, shape=(num_hidden, num_outputs), ctx=mx.gpu())\n",
    "b2 = nd.zeros((num_outputs,), ctx=mx.gpu())\n",
    "\n",
    "params=[W1, b2, W2, b2]\n",
    "\n",
    "for param in params:\n",
    "    param.attach_grad()"
   ]
  },
  {
   "cell_type": "code",
   "execution_count": 27,
   "metadata": {
    "ExecuteTime": {
     "end_time": "2017-12-06T03:27:23.191808Z",
     "start_time": "2017-12-06T03:27:23.163297Z"
    },
    "collapsed": true
   },
   "outputs": [],
   "source": [
    "def softmax(score):\n",
    "    \"\"\"\n",
    "    input:\n",
    "    - score N*D的矩阵，N代表样本的个数，D代表特征的长度\n",
    "    output:\n",
    "    - prob N*D的矩阵，每个元素代表了概率\n",
    "    \"\"\"\n",
    "    max_value = nd.max(score, axis=1, keepdims=True)\n",
    "    score = score - max_value\n",
    "    exp_score = nd.exp(score)\n",
    "    prob = exp_score / nd.sum(exp_score, axis=1, keepdims=True)\n",
    "    return prob\n",
    "\n",
    "# 定义loss\n",
    "def cross_entropy_loss(y, y_hat):\n",
    "    return - nd.pick(nd.log(y), y_hat)\n",
    "\n",
    "\n",
    "def relu(x):\n",
    "    return nd.maximum(x, 0)\n",
    "    "
   ]
  },
  {
   "cell_type": "code",
   "execution_count": 28,
   "metadata": {
    "ExecuteTime": {
     "end_time": "2017-12-06T03:27:23.330994Z",
     "start_time": "2017-12-06T03:27:23.194634Z"
    },
    "collapsed": true
   },
   "outputs": [],
   "source": [
    "def net(X):\n",
    "    X = X.reshape((X.shape[0], -1))\n",
    "    hidden = relu(nd.dot(X, W1) + b1)\n",
    "    output = nd.dot(hidden, W2) + b2\n",
    "    return softmax(output)"
   ]
  },
  {
   "cell_type": "code",
   "execution_count": 29,
   "metadata": {
    "ExecuteTime": {
     "end_time": "2017-12-06T03:27:24.154482Z",
     "start_time": "2017-12-06T03:27:24.137546Z"
    },
    "collapsed": true
   },
   "outputs": [],
   "source": [
    "def accuracy(y, y_hat):\n",
    "    return nd.mean(nd.argmax(y, axis=1) == y_hat).asscalar()\n",
    "\n",
    "def evaluate_accuracy(data_iterator, net):\n",
    "    acc = 0.\n",
    "    for data, label in data_iterator:\n",
    "        output = net(data.as_in_context(mx.gpu()))\n",
    "        acc += accuracy(output, label.as_in_context(mx.gpu()))\n",
    "    return acc / len(data_iterator)"
   ]
  },
  {
   "cell_type": "code",
   "execution_count": 30,
   "metadata": {
    "ExecuteTime": {
     "end_time": "2017-12-06T03:27:25.730095Z",
     "start_time": "2017-12-06T03:27:25.724036Z"
    },
    "collapsed": true
   },
   "outputs": [],
   "source": [
    "def SGD(params, lr):\n",
    "    for param in params:\n",
    "        param -= lr * param.grad"
   ]
  },
  {
   "cell_type": "code",
   "execution_count": 31,
   "metadata": {
    "ExecuteTime": {
     "end_time": "2017-12-06T03:28:26.236737Z",
     "start_time": "2017-12-06T03:27:31.159715Z"
    }
   },
   "outputs": [
    {
     "name": "stdout",
     "output_type": "stream",
     "text": [
      "epoch 0: training accuracy: 0.7083665779296388, testing accuracy: 0.82255859375\n",
      "epoch 1: training accuracy: 0.8168938385679366, testing accuracy: 0.85556640625\n",
      "epoch 2: training accuracy: 0.8404476949509154, testing accuracy: 0.86669921875\n",
      "epoch 3: training accuracy: 0.8502992021276595, testing accuracy: 0.86923828125\n",
      "epoch 4: training accuracy: 0.8609208776595745, testing accuracy: 0.87294921875\n"
     ]
    }
   ],
   "source": [
    "epoch = 5\n",
    "learing_rate = 0.5\n",
    "\n",
    "for i in range(epoch):\n",
    "    acc = 0\n",
    "    for data, label in train_data:\n",
    "        with ag.record():\n",
    "            y = net(data.as_in_context(mx.gpu()))\n",
    "            loss = cross_entropy_loss(y, label.as_in_context(mx.gpu()))\n",
    "        loss.backward()\n",
    "        SGD(params, learing_rate / batch_size)\n",
    "        acc += accuracy(y, label.as_in_context(mx.gpu()))\n",
    "    acc /= len(train_data)\n",
    "    print('epoch {}: training accuracy: {}, testing accuracy: {}'.format(i, acc, evaluate_accuracy(test_data, net)))\n",
    "        "
   ]
  },
  {
   "cell_type": "markdown",
   "metadata": {},
   "source": [
    "# 使用Gluon"
   ]
  },
  {
   "cell_type": "code",
   "execution_count": 32,
   "metadata": {
    "ExecuteTime": {
     "end_time": "2017-12-06T03:28:32.572550Z",
     "start_time": "2017-12-06T03:28:32.565864Z"
    },
    "collapsed": true
   },
   "outputs": [],
   "source": [
    "import mxnet.gluon.nn as nn"
   ]
  },
  {
   "cell_type": "code",
   "execution_count": 33,
   "metadata": {
    "ExecuteTime": {
     "end_time": "2017-12-06T03:28:33.058658Z",
     "start_time": "2017-12-06T03:28:33.037260Z"
    },
    "collapsed": true
   },
   "outputs": [],
   "source": [
    "net = nn.Sequential()\n",
    "with net.name_scope():\n",
    "    net.add(nn.Flatten())\n",
    "    net.add(nn.Dense(250, activation='relu'))\n",
    "    net.add(nn.Dense(10))\n",
    "net.initialize(ctx=mx.gpu())\n",
    "cross_entropy_loss = gluon.loss.SoftmaxCrossEntropyLoss()\n",
    "trainer = gluon.trainer.Trainer(net.collect_params(), optimizer='sgd', optimizer_params={'learning_rate': 0.5})"
   ]
  },
  {
   "cell_type": "code",
   "execution_count": 34,
   "metadata": {
    "ExecuteTime": {
     "end_time": "2017-12-06T03:29:29.558668Z",
     "start_time": "2017-12-06T03:28:37.132428Z"
    }
   },
   "outputs": [
    {
     "name": "stdout",
     "output_type": "stream",
     "text": [
      "epoch 0: training accuracy: 0.7346742021276595, testing accuracy: 0.79091796875\n",
      "epoch 1: training accuracy: 0.8276374114320634, testing accuracy: 0.838671875\n",
      "epoch 2: training accuracy: 0.8482878989361702, testing accuracy: 0.8650390625\n",
      "epoch 3: training accuracy: 0.8592641843126175, testing accuracy: 0.87392578125\n",
      "epoch 4: training accuracy: 0.8666445034615538, testing accuracy: 0.876953125\n"
     ]
    }
   ],
   "source": [
    "epoch = 5\n",
    "learing_rate = 0.5\n",
    "\n",
    "for i in range(epoch):\n",
    "    acc = 0\n",
    "    for data, label in train_data:\n",
    "        with ag.record():\n",
    "            y = net(data.as_in_context(mx.gpu()))\n",
    "            loss = cross_entropy_loss(y, label.as_in_context(mx.gpu()))\n",
    "        loss.backward()\n",
    "        trainer.step(batch_size=batch_size)\n",
    "        acc += accuracy(y, label.as_in_context(mx.gpu()))\n",
    "    acc /= len(train_data)\n",
    "    print('epoch {}: training accuracy: {}, testing accuracy: {}'.format(i, acc, evaluate_accuracy(test_data, net)))"
   ]
  },
  {
   "cell_type": "markdown",
   "metadata": {
    "ExecuteTime": {
     "end_time": "2017-12-06T02:10:25.581667Z",
     "start_time": "2017-12-06T02:10:25.573994Z"
    }
   },
   "source": [
    "## USE Dropout"
   ]
  },
  {
   "cell_type": "code",
   "execution_count": 37,
   "metadata": {
    "ExecuteTime": {
     "end_time": "2017-12-06T03:30:24.308990Z",
     "start_time": "2017-12-06T03:30:24.282210Z"
    },
    "collapsed": true
   },
   "outputs": [],
   "source": [
    "class Dropout(nn.Block):\n",
    "    def __init__(self, drop_prob, **kwargs):\n",
    "        super(Dropout, self).__init__(**kwargs)\n",
    "        self.drop_prob = drop_prob\n",
    "    def forward(self, X):\n",
    "        hold_prob = 1 - self.drop_prob\n",
    "        mask = nd.random.uniform(0, 1.0, shape=X.shape, ctx=X.context) < hold_prob\n",
    "        scale = 1 / hold_prob\n",
    "        if ag.train_mode:\n",
    "            return X * mask * scale\n",
    "        else:\n",
    "            return X"
   ]
  },
  {
   "cell_type": "code",
   "execution_count": 38,
   "metadata": {
    "ExecuteTime": {
     "end_time": "2017-12-06T03:32:03.781757Z",
     "start_time": "2017-12-06T03:30:24.950136Z"
    }
   },
   "outputs": [
    {
     "name": "stdout",
     "output_type": "stream",
     "text": [
      "epoch 0: training accuracy: 0.6846077127659574, testing accuracy: 0.8044921875\n",
      "epoch 1: training accuracy: 0.8101285460147452, testing accuracy: 0.83671875\n",
      "epoch 2: training accuracy: 0.8332058954746165, testing accuracy: 0.84599609375\n",
      "epoch 3: training accuracy: 0.845811170212766, testing accuracy: 0.8427734375\n",
      "epoch 4: training accuracy: 0.8551307624958931, testing accuracy: 0.862890625\n",
      "epoch 5: training accuracy: 0.8596354167512122, testing accuracy: 0.858203125\n",
      "epoch 6: training accuracy: 0.864223182708659, testing accuracy: 0.8681640625\n",
      "epoch 7: training accuracy: 0.870151817291341, testing accuracy: 0.86328125\n",
      "epoch 8: training accuracy: 0.8709940159574469, testing accuracy: 0.87685546875\n",
      "epoch 9: training accuracy: 0.8760749114320633, testing accuracy: 0.8693359375\n"
     ]
    }
   ],
   "source": [
    "net = nn.Sequential()\n",
    "with net.name_scope():\n",
    "    net.add(nn.Flatten())\n",
    "    net.add(nn.Dense(256, activation='relu'))\n",
    "    net.add(Dropout(0.2))\n",
    "    net.add(nn.Dense(256, activation='relu'))\n",
    "    net.add(Dropout(0.5))\n",
    "    net.add(nn.Dense(10))\n",
    "net.initialize(ctx=mx.gpu())\n",
    "cross_entropy_loss = gluon.loss.SoftmaxCrossEntropyLoss()\n",
    "trainer = gluon.trainer.Trainer(net.collect_params(), \n",
    "                                optimizer='sgd', \n",
    "                                optimizer_params={'learning_rate': 0.5})\n",
    "\n",
    "epoch = 10\n",
    "learing_rate = 0.5\n",
    "\n",
    "for i in range(epoch):\n",
    "    acc = 0\n",
    "    for data, label in train_data:\n",
    "        with ag.record():\n",
    "            y = net(data.as_in_context(mx.gpu()))\n",
    "            loss = cross_entropy_loss(y, label.as_in_context(mx.gpu()))\n",
    "        loss.backward()\n",
    "        trainer.step(batch_size=batch_size)\n",
    "        acc += accuracy(y, label.as_in_context(mx.gpu()))\n",
    "    acc /= len(train_data)\n",
    "    print('epoch {}: training accuracy: {}, testing accuracy: {}'.format(i, acc, evaluate_accuracy(test_data, net)))"
   ]
  },
  {
   "cell_type": "code",
   "execution_count": null,
   "metadata": {
    "collapsed": true
   },
   "outputs": [],
   "source": []
  }
 ],
 "metadata": {
  "kernelspec": {
   "display_name": "Python 3",
   "language": "python",
   "name": "python3"
  },
  "language_info": {
   "codemirror_mode": {
    "name": "ipython",
    "version": 3
   },
   "file_extension": ".py",
   "mimetype": "text/x-python",
   "name": "python",
   "nbconvert_exporter": "python",
   "pygments_lexer": "ipython3",
   "version": "3.6.2"
  }
 },
 "nbformat": 4,
 "nbformat_minor": 2
}
