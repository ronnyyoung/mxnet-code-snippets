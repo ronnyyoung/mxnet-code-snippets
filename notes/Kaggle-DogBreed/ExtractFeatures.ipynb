{
 "cells": [
  {
   "cell_type": "code",
   "execution_count": 2,
   "metadata": {
    "ExecuteTime": {
     "end_time": "2018-03-27T01:33:16.860696Z",
     "start_time": "2018-03-27T01:33:16.827200Z"
    }
   },
   "outputs": [],
   "source": [
    "import mxnet as mx\n",
    "from mxnet import autograd\n",
    "from mxnet import gluon\n",
    "from mxnet import image\n",
    "from mxnet import init\n",
    "from mxnet import nd\n",
    "from mxnet.gluon.data import vision\n",
    "import numpy as np\n",
    "\n",
    "preprocess_list = [\n",
    "    lambda img: img.astype(\"float32\")/255,\n",
    "    mx.image.ForceResizeAug((224, 224)),\n",
    "    mx.image.ColorNormalizeAug(mean = [0.485, 0.456, 0.406], std = [0.229, 0.224, 0.225]),\n",
    "    lambda img: nd.transpose(img,(2,0,1))\n",
    "]\n",
    "\n",
    "def data_transform(img, label):\n",
    "    for f in preprocess_list:\n",
    "        img = f(img)\n",
    "    return img,label"
   ]
  },
  {
   "cell_type": "code",
   "execution_count": 4,
   "metadata": {
    "ExecuteTime": {
     "end_time": "2018-03-27T01:35:25.772649Z",
     "start_time": "2018-03-27T01:35:25.537147Z"
    }
   },
   "outputs": [],
   "source": [
    "import os\n",
    "\n",
    "data_root_dir = '/home/yansheng/kaggle_dog'\n",
    "output_dir = 'train_valid_test'\n",
    "\n",
    "input_str = os.path.join(data_root_dir, output_dir)\n",
    "batch_size = 128\n",
    "\n",
    "# 读取原始图像文件。flag=1说明输入图像有三个通道（彩色）。\n",
    "train_ds = vision.ImageFolderDataset(input_str + '/train', flag=1,\n",
    "                                     transform=data_transform)\n",
    "valid_ds = vision.ImageFolderDataset(input_str + '/valid', flag=1,\n",
    "                                     transform=data_transform)\n",
    "train_valid_ds = vision.ImageFolderDataset(input_str + '/train_valid',\n",
    "                                           flag=1, transform=data_transform)\n",
    "test_ds = vision.ImageFolderDataset(input_str + '/test', flag=1,\n",
    "                                     transform=data_transform)\n",
    "\n",
    "loader = gluon.data.DataLoader\n",
    "train_data = loader(train_ds, batch_size, shuffle=True, last_batch='keep')\n",
    "valid_data = loader(valid_ds, batch_size, shuffle=True, last_batch='keep')\n",
    "train_valid_data = loader(train_valid_ds, batch_size, shuffle=True, last_batch='keep')\n",
    "test_data = loader(test_ds, batch_size, shuffle=False, last_batch='keep')"
   ]
  },
  {
   "cell_type": "code",
   "execution_count": 5,
   "metadata": {
    "ExecuteTime": {
     "end_time": "2018-03-27T01:35:52.681593Z",
     "start_time": "2018-03-27T01:35:50.192250Z"
    },
    "collapsed": true
   },
   "outputs": [],
   "source": [
    "ctx = mx.gpu()\n",
    "resnet50_v2 = mx.gluon.model_zoo.vision.resnet50_v2(pretrained=True, ctx=ctx)"
   ]
  },
  {
   "cell_type": "code",
   "execution_count": 8,
   "metadata": {
    "ExecuteTime": {
     "end_time": "2018-03-27T01:39:16.597079Z",
     "start_time": "2018-03-27T01:39:16.577108Z"
    }
   },
   "outputs": [],
   "source": [
    "def extract_features(net, data, ctx):\n",
    "    rst_X, rst_y = [], []\n",
    "    for X, y in data:\n",
    "        Xi = net.features(X.as_in_context(ctx))\n",
    "        rst_X.append(Xi.asnumpy())\n",
    "        rst_y.append(y.asnumpy())\n",
    "    return np.concatenate(rst_X, axis=0), np.concatenate(rst_y, axis=0)"
   ]
  },
  {
   "cell_type": "code",
   "execution_count": 9,
   "metadata": {
    "ExecuteTime": {
     "end_time": "2018-03-27T01:42:49.304556Z",
     "start_time": "2018-03-27T01:39:18.392170Z"
    }
   },
   "outputs": [],
   "source": [
    "X_train_resnet50_v2, y_train = extract_features(resnet50_v2, train_valid_data, ctx)\n",
    "X_test_resnet50_v2, _ = extract_features(resnet50_v2, test_data, ctx)"
   ]
  },
  {
   "cell_type": "code",
   "execution_count": 11,
   "metadata": {
    "ExecuteTime": {
     "end_time": "2018-03-27T01:49:11.287400Z",
     "start_time": "2018-03-27T01:49:11.026934Z"
    }
   },
   "outputs": [],
   "source": [
    "import h5py\n",
    "\n",
    "with h5py.File(os.path.join(data_root_dir, 'resnet50_v2_pretrained_Xy.h5'), 'w') as f:\n",
    "    f['X_train_resnet50_v2'] = X_train_resnet50_v2\n",
    "    f['X_test_resnet50_v2'] = X_test_resnet50_v2\n",
    "    f['y_train'] = y_train"
   ]
  },
  {
   "cell_type": "code",
   "execution_count": null,
   "metadata": {
    "collapsed": true
   },
   "outputs": [],
   "source": []
  }
 ],
 "metadata": {
  "kernelspec": {
   "display_name": "Python 3",
   "language": "python",
   "name": "python3"
  },
  "language_info": {
   "codemirror_mode": {
    "name": "ipython",
    "version": 3
   },
   "file_extension": ".py",
   "mimetype": "text/x-python",
   "name": "python",
   "nbconvert_exporter": "python",
   "pygments_lexer": "ipython3",
   "version": "3.6.2"
  }
 },
 "nbformat": 4,
 "nbformat_minor": 2
}
