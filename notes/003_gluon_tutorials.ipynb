{
 "cells": [
  {
   "cell_type": "markdown",
   "metadata": {
    "collapsed": true
   },
   "source": [
    "# Gluon基础教程"
   ]
  },
  {
   "cell_type": "markdown",
   "metadata": {
    "ExecuteTime": {
     "end_time": "2017-12-05T01:07:50.886217Z",
     "start_time": "2017-12-05T01:07:50.879146Z"
    }
   },
   "source": [
    "## 网络的创建、初始化、保存与加载 "
   ]
  },
  {
   "cell_type": "code",
   "execution_count": 2,
   "metadata": {
    "ExecuteTime": {
     "end_time": "2017-12-05T01:09:03.528607Z",
     "start_time": "2017-12-05T01:09:03.523305Z"
    },
    "collapsed": true
   },
   "outputs": [],
   "source": [
    "from mxnet import nd\n",
    "from mxnet.gluon import nn"
   ]
  },
  {
   "cell_type": "code",
   "execution_count": 11,
   "metadata": {
    "ExecuteTime": {
     "end_time": "2017-12-05T01:37:13.127261Z",
     "start_time": "2017-12-05T01:37:13.116343Z"
    }
   },
   "outputs": [
    {
     "name": "stdout",
     "output_type": "stream",
     "text": [
      "Sequential(\n",
      "  (0): Dense(256, Activation(relu))\n",
      "  (1): Dense(10, linear)\n",
      ")\n"
     ]
    }
   ],
   "source": [
    "net = nn.Sequential()\n",
    "with net.name_scope():\n",
    "    net.add(nn.Dense(256, activation=\"relu\"))\n",
    "    net.add(nn.Dense(10))\n",
    "print(net)"
   ]
  },
  {
   "cell_type": "markdown",
   "metadata": {},
   "source": [
    "## 如何理解nn.Block和nn.Sequential"
   ]
  },
  {
   "cell_type": "markdown",
   "metadata": {},
   "source": [
    "事实上，nn.Sequential是nn.Block的简单形式。我们先来看下如何使用nn.Block来实现同样的网络。"
   ]
  },
  {
   "cell_type": "code",
   "execution_count": 56,
   "metadata": {
    "ExecuteTime": {
     "end_time": "2017-12-05T03:54:05.047441Z",
     "start_time": "2017-12-05T03:54:05.030653Z"
    },
    "collapsed": true
   },
   "outputs": [],
   "source": [
    "class MLP(nn.Block):\n",
    "    def __init__(self, **kwargs):\n",
    "        super(MLP, self).__init__(**kwargs)\n",
    "        with self.name_scope():\n",
    "            self.dense0 = nn.Dense(256)\n",
    "            self.dense1 = nn.Dense(10)\n",
    "\n",
    "    def forward(self, x):\n",
    "        return self.dense1(nd.relu(self.dense0(x)))"
   ]
  },
  {
   "cell_type": "markdown",
   "metadata": {},
   "source": [
    "一个nn.Block就是一个计算模块，至少包含两个函数\n",
    "- `__init__`：创建参数，没有显式的定义参数，而是把通过定义dense0和dense1来定义了参数\n",
    "- `forward()`：定义网络的计算"
   ]
  },
  {
   "cell_type": "markdown",
   "metadata": {},
   "source": [
    "在gluon里，nn.Block是一个一般化的部件。整个神经网络可以是一个nn.Block，单个层也是一个nn.Block。我们可以（近似）无限地嵌套nn.Block来构建新的nn.Block。\n",
    "\n",
    "nn.Block主要提供这个东西\n",
    "\n",
    "- 存储参数\n",
    "- 描述forward如何执行\n",
    "- 自动求导"
   ]
  },
  {
   "cell_type": "markdown",
   "metadata": {},
   "source": [
    "nn.Sequential是一个nn.Block容器，它通过add来添加nn.Block。它自动生成forward()函数，其就是把加进来的nn.Block逐一运行。\n",
    "\n",
    "一个简单的实现是这样的："
   ]
  },
  {
   "cell_type": "code",
   "execution_count": 57,
   "metadata": {
    "ExecuteTime": {
     "end_time": "2017-12-05T03:58:31.085970Z",
     "start_time": "2017-12-05T03:58:31.070189Z"
    },
    "collapsed": true
   },
   "outputs": [],
   "source": [
    "class Sequential(nn.Block):\n",
    "    def __init__(self, **kwargs):\n",
    "        super(Sequential, self).__init__(**kwargs)\n",
    "    def add(self, block):\n",
    "        self._children.append(block)\n",
    "    def forward(self, x):\n",
    "        for block in self._children:\n",
    "            x = block(x)\n",
    "        return x"
   ]
  },
  {
   "cell_type": "markdown",
   "metadata": {},
   "source": [
    "## 模型参数"
   ]
  },
  {
   "cell_type": "code",
   "execution_count": 12,
   "metadata": {
    "ExecuteTime": {
     "end_time": "2017-12-05T01:37:15.263668Z",
     "start_time": "2017-12-05T01:37:15.228362Z"
    }
   },
   "outputs": [
    {
     "data": {
      "text/plain": [
       "\n",
       "[[-0.03452701  0.00054905 -0.01634025  0.15740812 -0.00887376  0.05347699\n",
       "  -0.05174917 -0.04148688  0.06176401 -0.0059028 ]\n",
       " [-0.05516256 -0.08472089  0.01713695  0.1140467  -0.02684359 -0.12606426\n",
       "  -0.0157811   0.11626006 -0.08061735  0.04699893]]\n",
       "<NDArray 2x10 @cpu(0)>"
      ]
     },
     "execution_count": 12,
     "metadata": {},
     "output_type": "execute_result"
    }
   ],
   "source": [
    "net.initialize()\n",
    "x = nd.random_normal(shape=(2,32))\n",
    "net(x)"
   ]
  },
  {
   "cell_type": "code",
   "execution_count": 22,
   "metadata": {
    "ExecuteTime": {
     "end_time": "2017-12-05T01:54:45.014755Z",
     "start_time": "2017-12-05T01:54:44.998921Z"
    }
   },
   "outputs": [
    {
     "name": "stdout",
     "output_type": "stream",
     "text": [
      "sequential2_dense0\n"
     ]
    },
    {
     "data": {
      "text/plain": [
       "(\n",
       " [[-0.01599531 -0.05768581  0.04749851 ...,  0.00408183 -0.05727024\n",
       "    0.04672503]\n",
       "  [-0.03006572 -0.02715722 -0.03812539 ...,  0.01958384  0.06715145\n",
       "    0.02174592]\n",
       "  [-0.05624504  0.03595566  0.04757827 ...,  0.05127243 -0.00077434\n",
       "   -0.04942027]\n",
       "  ..., \n",
       "  [ 0.06597313  0.05342786 -0.03824011 ..., -0.04555389  0.05498707\n",
       "   -0.04340196]\n",
       "  [-0.05670377  0.05629475  0.00370745 ...,  0.03403596  0.06027343\n",
       "    0.00654084]\n",
       "  [ 0.01427387  0.01173636 -0.02694394 ...,  0.01538847  0.00350107\n",
       "   -0.04435379]]\n",
       " <NDArray 256x32 @cpu(0)>, \n",
       " [[ 0.  0.  0. ...,  0.  0.  0.]\n",
       "  [ 0.  0.  0. ...,  0.  0.  0.]\n",
       "  [ 0.  0.  0. ...,  0.  0.  0.]\n",
       "  ..., \n",
       "  [ 0.  0.  0. ...,  0.  0.  0.]\n",
       "  [ 0.  0.  0. ...,  0.  0.  0.]\n",
       "  [ 0.  0.  0. ...,  0.  0.  0.]]\n",
       " <NDArray 256x32 @cpu(0)>)"
      ]
     },
     "execution_count": 22,
     "metadata": {},
     "output_type": "execute_result"
    }
   ],
   "source": [
    "print(net[0].name) # layer的名字\n",
    "w = net[0].weight # w和b都是Parameter类型\n",
    "b = net[0].bias\n",
    "w.data(),w.grad() # 访问值和梯度"
   ]
  },
  {
   "cell_type": "code",
   "execution_count": 23,
   "metadata": {
    "ExecuteTime": {
     "end_time": "2017-12-05T01:55:26.440695Z",
     "start_time": "2017-12-05T01:55:26.435069Z"
    }
   },
   "outputs": [
    {
     "name": "stdout",
     "output_type": "stream",
     "text": [
      "sequential2_ (\n",
      "  Parameter sequential2_dense0_weight (shape=(256, 32), dtype=<class 'numpy.float32'>)\n",
      "  Parameter sequential2_dense0_bias (shape=(256,), dtype=<class 'numpy.float32'>)\n",
      "  Parameter sequential2_dense1_weight (shape=(10, 256), dtype=<class 'numpy.float32'>)\n",
      "  Parameter sequential2_dense1_bias (shape=(10,), dtype=<class 'numpy.float32'>)\n",
      ")\n"
     ]
    }
   ],
   "source": [
    "print(net.collect_params())"
   ]
  },
  {
   "cell_type": "markdown",
   "metadata": {},
   "source": [
    "## 网络参数的保存与加载"
   ]
  },
  {
   "cell_type": "code",
   "execution_count": 24,
   "metadata": {
    "ExecuteTime": {
     "end_time": "2017-12-05T01:56:28.160126Z",
     "start_time": "2017-12-05T01:56:28.078286Z"
    },
    "collapsed": true
   },
   "outputs": [],
   "source": [
    "filename = \"mlp.params\"\n",
    "net.save_params(filename)"
   ]
  },
  {
   "cell_type": "code",
   "execution_count": 27,
   "metadata": {
    "ExecuteTime": {
     "end_time": "2017-12-05T01:57:17.551726Z",
     "start_time": "2017-12-05T01:57:17.545663Z"
    }
   },
   "outputs": [],
   "source": [
    "import mxnet as mx\n",
    "net.load_params(filename, mx.cpu())"
   ]
  },
  {
   "cell_type": "code",
   "execution_count": 29,
   "metadata": {
    "ExecuteTime": {
     "end_time": "2017-12-05T02:02:37.332736Z",
     "start_time": "2017-12-05T02:02:37.256428Z"
    }
   },
   "outputs": [],
   "source": [
    "# 保存 ndarray, ndarray list 以及 ndarray dict\n",
    "x = nd.ones(3)\n",
    "y = nd.zeros(4)\n",
    "nd.save(filename, x)\n",
    "nd.save(filename, [x,y])\n",
    "nd.save(filename, {'x':x, 'y':y})"
   ]
  },
  {
   "cell_type": "code",
   "execution_count": 30,
   "metadata": {
    "ExecuteTime": {
     "end_time": "2017-12-05T02:02:57.793495Z",
     "start_time": "2017-12-05T02:02:57.785657Z"
    }
   },
   "outputs": [
    {
     "name": "stdout",
     "output_type": "stream",
     "text": [
      "{'x': \n",
      "[ 1.  1.  1.]\n",
      "<NDArray 3 @cpu(0)>, 'y': \n",
      "[ 0.  0.  0.  0.]\n",
      "<NDArray 4 @cpu(0)>}\n"
     ]
    }
   ],
   "source": [
    "print(nd.load(filename))"
   ]
  },
  {
   "cell_type": "markdown",
   "metadata": {},
   "source": [
    "## 自定义gluon中的层"
   ]
  },
  {
   "cell_type": "code",
   "execution_count": 31,
   "metadata": {
    "ExecuteTime": {
     "end_time": "2017-12-05T02:07:37.142052Z",
     "start_time": "2017-12-05T02:07:37.132143Z"
    },
    "collapsed": true
   },
   "outputs": [],
   "source": [
    "class CenteredLayer(nn.Block):\n",
    "    def __init__(self, **kwargs):\n",
    "        super(CenteredLayer, self).__init__(**kwargs)\n",
    "    def forward(self, x):\n",
    "        return x - x.mean()"
   ]
  },
  {
   "cell_type": "code",
   "execution_count": 32,
   "metadata": {
    "ExecuteTime": {
     "end_time": "2017-12-05T02:08:51.474381Z",
     "start_time": "2017-12-05T02:08:51.461367Z"
    }
   },
   "outputs": [
    {
     "name": "stdout",
     "output_type": "stream",
     "text": [
      "Sequential(\n",
      "  (0): Dense(128, linear)\n",
      "  (1): Dense(10, linear)\n",
      "  (2): CenteredLayer(\n",
      "  \n",
      "  )\n",
      ")\n"
     ]
    }
   ],
   "source": [
    "# 使用刚才定义的CenteredLayer\n",
    "net = nn.Sequential()\n",
    "with net.name_scope():\n",
    "    net.add(nn.Dense(128))\n",
    "    net.add(nn.Dense(10))\n",
    "    net.add(CenteredLayer())\n",
    "print(net)"
   ]
  },
  {
   "cell_type": "code",
   "execution_count": 33,
   "metadata": {
    "ExecuteTime": {
     "end_time": "2017-12-05T02:09:39.983482Z",
     "start_time": "2017-12-05T02:09:39.931338Z"
    }
   },
   "outputs": [
    {
     "data": {
      "text/plain": [
       "\n",
       "[ -3.25962896e-10]\n",
       "<NDArray 1 @cpu(0)>"
      ]
     },
     "execution_count": 33,
     "metadata": {},
     "output_type": "execute_result"
    }
   ],
   "source": [
    "net.initialize()\n",
    "y = net(nd.random.uniform(shape=(4,8)))\n",
    "y.mean()"
   ]
  },
  {
   "cell_type": "code",
   "execution_count": 34,
   "metadata": {
    "ExecuteTime": {
     "end_time": "2017-12-05T02:11:19.529594Z",
     "start_time": "2017-12-05T02:11:19.525172Z"
    },
    "collapsed": true
   },
   "outputs": [],
   "source": [
    "from mxnet import gluon"
   ]
  },
  {
   "cell_type": "code",
   "execution_count": 35,
   "metadata": {
    "ExecuteTime": {
     "end_time": "2017-12-05T02:11:45.102975Z",
     "start_time": "2017-12-05T02:11:45.096999Z"
    },
    "collapsed": true
   },
   "outputs": [],
   "source": [
    "my_param = gluon.Parameter(\"my_params\", shape=(3,3))"
   ]
  },
  {
   "cell_type": "code",
   "execution_count": 37,
   "metadata": {
    "ExecuteTime": {
     "end_time": "2017-12-05T02:12:15.450991Z",
     "start_time": "2017-12-05T02:12:15.432727Z"
    }
   },
   "outputs": [
    {
     "data": {
      "text/plain": [
       "(\n",
       " [[-0.01241264 -0.06773117  0.06439362]\n",
       "  [-0.04160211  0.06035588 -0.04256937]\n",
       "  [-0.05521125 -0.01001626  0.03380133]]\n",
       " <NDArray 3x3 @cpu(0)>, \n",
       " [[ 0.  0.  0.]\n",
       "  [ 0.  0.  0.]\n",
       "  [ 0.  0.  0.]]\n",
       " <NDArray 3x3 @cpu(0)>)"
      ]
     },
     "execution_count": 37,
     "metadata": {},
     "output_type": "execute_result"
    }
   ],
   "source": [
    "my_param.initialize()\n",
    "my_param.data(),my_param.grad()"
   ]
  },
  {
   "cell_type": "markdown",
   "metadata": {},
   "source": [
    "## 有参数的自定义层"
   ]
  },
  {
   "cell_type": "code",
   "execution_count": 43,
   "metadata": {
    "ExecuteTime": {
     "end_time": "2017-12-05T02:50:24.387592Z",
     "start_time": "2017-12-05T02:50:24.364747Z"
    }
   },
   "outputs": [],
   "source": [
    "class MyDense(nn.Block):\n",
    "    def __init__(self, units, in_units, **kwargs):\n",
    "        super(MyDense, self).__init__(**kwargs)\n",
    "        with self.name_scope():\n",
    "            self.weight = self.params.get('weight', shape=(in_units, units))\n",
    "            self.bias = self.params.get('bias',shape=(units,))\n",
    "        \n",
    "    def forward(self, x):\n",
    "        linear = nd.dot(x, self.weight.data()) + self.bias.data()\n",
    "        return nd.relu(linear)"
   ]
  },
  {
   "cell_type": "code",
   "execution_count": 44,
   "metadata": {
    "ExecuteTime": {
     "end_time": "2017-12-05T02:50:26.891050Z",
     "start_time": "2017-12-05T02:50:26.882432Z"
    }
   },
   "outputs": [
    {
     "data": {
      "text/plain": [
       "o_my_dense_ (\n",
       "  Parameter o_my_dense_weight (shape=(10, 5), dtype=<class 'numpy.float32'>)\n",
       "  Parameter o_my_dense_bias (shape=(5,), dtype=<class 'numpy.float32'>)\n",
       ")"
      ]
     },
     "execution_count": 44,
     "metadata": {},
     "output_type": "execute_result"
    }
   ],
   "source": [
    "dense = MyDense(5, in_units=10, prefix='o_my_dense_')\n",
    "dense.params"
   ]
  },
  {
   "cell_type": "code",
   "execution_count": 45,
   "metadata": {
    "ExecuteTime": {
     "end_time": "2017-12-05T02:50:28.097378Z",
     "start_time": "2017-12-05T02:50:28.036914Z"
    }
   },
   "outputs": [
    {
     "data": {
      "text/plain": [
       "\n",
       "[[ 0.17594399  0.06958125  0.          0.          0.10372791]\n",
       " [ 0.20519701  0.          0.0898647   0.02732412  0.13050345]]\n",
       "<NDArray 2x5 @cpu(0)>"
      ]
     },
     "execution_count": 45,
     "metadata": {},
     "output_type": "execute_result"
    }
   ],
   "source": [
    "dense.initialize()\n",
    "dense(nd.random.uniform(shape=(2,10)))"
   ]
  },
  {
   "cell_type": "code",
   "execution_count": 46,
   "metadata": {
    "ExecuteTime": {
     "end_time": "2017-12-05T02:50:43.754663Z",
     "start_time": "2017-12-05T02:50:43.695696Z"
    }
   },
   "outputs": [
    {
     "data": {
      "text/plain": [
       "\n",
       "[[ 0.          0.04920261]\n",
       " [ 0.          0.0471992 ]]\n",
       "<NDArray 2x2 @cpu(0)>"
      ]
     },
     "execution_count": 46,
     "metadata": {},
     "output_type": "execute_result"
    }
   ],
   "source": [
    "net = nn.Sequential()\n",
    "with net.name_scope():\n",
    "    net.add(MyDense(32, in_units=64))\n",
    "    net.add(MyDense(2, in_units=32))\n",
    "net.initialize()\n",
    "net(nd.random.uniform(shape=(2,64)))"
   ]
  },
  {
   "cell_type": "code",
   "execution_count": 47,
   "metadata": {
    "ExecuteTime": {
     "end_time": "2017-12-05T02:51:03.550327Z",
     "start_time": "2017-12-05T02:51:03.543616Z"
    }
   },
   "outputs": [
    {
     "data": {
      "text/plain": [
       "'sequential5_mydense0'"
      ]
     },
     "execution_count": 47,
     "metadata": {},
     "output_type": "execute_result"
    }
   ],
   "source": [
    "net[0].name"
   ]
  },
  {
   "cell_type": "code",
   "execution_count": 49,
   "metadata": {
    "ExecuteTime": {
     "end_time": "2017-12-05T02:51:16.204677Z",
     "start_time": "2017-12-05T02:51:16.194885Z"
    }
   },
   "outputs": [
    {
     "data": {
      "text/plain": [
       "\n",
       "[[ 0.0598914   0.0138801   0.05596199 ..., -0.00225972  0.01277342\n",
       "   0.06014002]\n",
       " [ 0.05154703 -0.04380481 -0.06335194 ..., -0.06190795  0.04354891\n",
       "  -0.04029946]\n",
       " [-0.01228636  0.01871894  0.0484838  ..., -0.01373136  0.06271163\n",
       "  -0.06682531]\n",
       " ..., \n",
       " [-0.06251022 -0.03662002  0.03110864 ...,  0.03333841 -0.02996539\n",
       "   0.02106849]\n",
       " [-0.00096778  0.02576673 -0.06881564 ...,  0.02622904  0.00440957\n",
       "   0.02369227]\n",
       " [ 0.02678076  0.03483683 -0.04148536 ..., -0.02515849 -0.01115513\n",
       "  -0.01808989]]\n",
       "<NDArray 64x32 @cpu(0)>"
      ]
     },
     "execution_count": 49,
     "metadata": {},
     "output_type": "execute_result"
    }
   ],
   "source": [
    "net[0].weight.data()"
   ]
  },
  {
   "cell_type": "markdown",
   "metadata": {},
   "source": [
    "## USE GPU"
   ]
  },
  {
   "cell_type": "code",
   "execution_count": 50,
   "metadata": {
    "ExecuteTime": {
     "end_time": "2017-12-05T03:35:39.657331Z",
     "start_time": "2017-12-05T03:35:39.651922Z"
    }
   },
   "outputs": [
    {
     "ename": "SyntaxError",
     "evalue": "invalid character in identifier (<ipython-input-50-dc6b824163ab>, line 1)",
     "output_type": "error",
     "traceback": [
      "\u001b[0;36m  File \u001b[0;32m\"<ipython-input-50-dc6b824163ab>\"\u001b[0;36m, line \u001b[0;32m1\u001b[0m\n\u001b[0;31m    ！nvidia-smi\u001b[0m\n\u001b[0m          ^\u001b[0m\n\u001b[0;31mSyntaxError\u001b[0m\u001b[0;31m:\u001b[0m invalid character in identifier\n"
     ]
    }
   ],
   "source": [
    "！nvidia-smi"
   ]
  },
  {
   "cell_type": "code",
   "execution_count": 51,
   "metadata": {
    "ExecuteTime": {
     "end_time": "2017-12-05T03:45:45.065164Z",
     "start_time": "2017-12-05T03:45:39.032088Z"
    }
   },
   "outputs": [
    {
     "data": {
      "text/plain": [
       "(\n",
       " [ 1.  2.  3.]\n",
       " <NDArray 3 @gpu(0)>, \n",
       " [[ 0.  0.]\n",
       "  [ 0.  0.]\n",
       "  [ 0.  0.]]\n",
       " <NDArray 3x2 @gpu(0)>, \n",
       " [[ 0.32977498  0.43025011  0.70026755]\n",
       "  [ 0.77781075  0.29912937  0.39169419]]\n",
       " <NDArray 2x3 @gpu(0)>)"
      ]
     },
     "execution_count": 51,
     "metadata": {},
     "output_type": "execute_result"
    }
   ],
   "source": [
    "# 创建在gpu上的数据\n",
    "a = nd.array([1,2,3],ctx=mx.gpu())\n",
    "b = nd.zeros(shape=(3,2),ctx=mx.gpu())\n",
    "c = nd.random.uniform(shape=(2,3), ctx=mx.gpu())\n",
    "(a,b,c)"
   ]
  },
  {
   "cell_type": "code",
   "execution_count": 52,
   "metadata": {
    "ExecuteTime": {
     "end_time": "2017-12-05T03:46:13.804126Z",
     "start_time": "2017-12-05T03:46:11.041449Z"
    }
   },
   "outputs": [
    {
     "data": {
      "text/plain": [
       "\n",
       "[ 1.  2.  3.]\n",
       "<NDArray 3 @gpu(2)>"
      ]
     },
     "execution_count": 52,
     "metadata": {},
     "output_type": "execute_result"
    }
   ],
   "source": [
    "# 使用其他gpu\n",
    "nd.array([1,2,3], ctx=mx.gpu(2))"
   ]
  },
  {
   "cell_type": "code",
   "execution_count": 54,
   "metadata": {
    "ExecuteTime": {
     "end_time": "2017-12-05T03:47:48.966131Z",
     "start_time": "2017-12-05T03:47:48.952103Z"
    }
   },
   "outputs": [
    {
     "data": {
      "text/plain": [
       "(\n",
       " [[ 0.56268167 -0.44618151  1.1527468 ]\n",
       "  [ 0.84410983 -0.36372346 -0.10490948]\n",
       "  [ 1.83048832  1.16871405 -0.76237744]]\n",
       " <NDArray 3x3 @gpu(0)>, \n",
       " [[ 0.56268167 -0.44618151  1.1527468 ]\n",
       "  [ 0.84410983 -0.36372346 -0.10490948]\n",
       "  [ 1.83048832  1.16871405 -0.76237744]]\n",
       " <NDArray 3x3 @gpu(0)>)"
      ]
     },
     "execution_count": 54,
     "metadata": {},
     "output_type": "execute_result"
    }
   ],
   "source": [
    "## CPU与GPU之间的数据拷贝\n",
    "\n",
    "x = nd.random_normal(shape=(3,3))\n",
    "y = x.copyto(mx.gpu())\n",
    "z = x.as_in_context(mx.gpu())\n",
    "(y,z)"
   ]
  },
  {
   "cell_type": "markdown",
   "metadata": {},
   "source": [
    "这两个函数的主要区别是，如果源和目标的context一致，as_in_context不复制，而copyto总是会新建内存："
   ]
  },
  {
   "cell_type": "markdown",
   "metadata": {
    "ExecuteTime": {
     "end_time": "2017-12-05T03:49:39.777675Z",
     "start_time": "2017-12-05T03:49:39.770534Z"
    }
   },
   "source": [
    "## 在GPU上训练模型\n",
    "\n",
    "1. net.initialize(ctx=mx.gpu())\n",
    "2. data和label都在gpu上"
   ]
  },
  {
   "cell_type": "code",
   "execution_count": null,
   "metadata": {
    "collapsed": true
   },
   "outputs": [],
   "source": []
  }
 ],
 "metadata": {
  "kernelspec": {
   "display_name": "Python 3",
   "language": "python",
   "name": "python3"
  },
  "language_info": {
   "codemirror_mode": {
    "name": "ipython",
    "version": 3
   },
   "file_extension": ".py",
   "mimetype": "text/x-python",
   "name": "python",
   "nbconvert_exporter": "python",
   "pygments_lexer": "ipython3",
   "version": "3.6.2"
  }
 },
 "nbformat": 4,
 "nbformat_minor": 2
}
