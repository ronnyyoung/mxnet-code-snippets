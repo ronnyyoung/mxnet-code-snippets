{
 "cells": [
  {
   "cell_type": "markdown",
   "metadata": {},
   "source": [
    "# NDArray的使用\n",
    "\n",
    "- 创建\n",
    "- 常用的属性:shape、size\n",
    "- 操作，tensor相加，矩阵乘等, reshape, Broadcast等\n",
    "- 原地操作\n",
    "\n",
    "API: [NDArray API](https://mxnet.incubator.apache.org/api/python/ndarray.html)"
   ]
  },
  {
   "cell_type": "code",
   "execution_count": 1,
   "metadata": {
    "ExecuteTime": {
     "end_time": "2017-11-27T03:58:08.232721Z",
     "start_time": "2017-11-27T03:58:04.583961Z"
    },
    "collapsed": true
   },
   "outputs": [],
   "source": [
    "import mxnet as mx\n",
    "from mxnet import ndarray as nd"
   ]
  },
  {
   "cell_type": "markdown",
   "metadata": {},
   "source": [
    "MXNet中的NDArray和Numpy中的ndarray基本一致，大多数在ndarray中的用法与函数在NDArray中同样成立。"
   ]
  },
  {
   "cell_type": "markdown",
   "metadata": {},
   "source": [
    "## 创建"
   ]
  },
  {
   "cell_type": "code",
   "execution_count": 2,
   "metadata": {
    "ExecuteTime": {
     "end_time": "2017-11-27T03:58:39.734731Z",
     "start_time": "2017-11-27T03:58:33.432327Z"
    }
   },
   "outputs": [
    {
     "name": "stdout",
     "output_type": "stream",
     "text": [
      "\n",
      "[[ 0.  0.  0.  0.]\n",
      " [ 0.  0.  0.  0.]\n",
      " [ 0.  0.  0.  0.]]\n",
      "<NDArray 3x4 @cpu(0)>\n",
      "\n",
      "[[ 1.  1.  1.  1.]\n",
      " [ 1.  1.  1.  1.]\n",
      " [ 1.  1.  1.  1.]]\n",
      "<NDArray 3x4 @gpu(0)>\n",
      "\n",
      "[[ 0.30030754  0.23107235  1.04932892 -0.32433933]\n",
      " [-0.0097888   0.73686236  1.72023427  0.46656415]\n",
      " [-1.07333767  0.87809837 -0.26717702 -0.8692565 ]]\n",
      "<NDArray 3x4 @cpu(0)>\n"
     ]
    }
   ],
   "source": [
    "# 直接利用函数创建指定大小的NDArray\n",
    "print (nd.zeros((3,4), dtype='float32'))\n",
    "print (nd.ones((3,4), ctx=mx.gpu()))\n",
    "print (nd.random_normal(shape=(3,4)))"
   ]
  },
  {
   "cell_type": "code",
   "execution_count": 3,
   "metadata": {
    "ExecuteTime": {
     "end_time": "2017-11-27T03:59:00.250703Z",
     "start_time": "2017-11-27T03:59:00.236107Z"
    }
   },
   "outputs": [
    {
     "name": "stdout",
     "output_type": "stream",
     "text": [
      "\n",
      "[[ 1.  2.]\n",
      " [ 3.  4.]]\n",
      "<NDArray 2x2 @cpu(0)>\n",
      "\n",
      "[[ 1.  2.]\n",
      " [ 3.  4.]]\n",
      "<NDArray 2x2 @cpu(0)>\n"
     ]
    }
   ],
   "source": [
    "import numpy as np\n",
    "l = [[1,2],[3,4]]\n",
    "print(nd.array(l)) # 从List转到NDArray\n",
    "print(nd.array(np.array(l))) # 从np.array转到NDArray"
   ]
  },
  {
   "cell_type": "markdown",
   "metadata": {},
   "source": [
    "## 常用到的属性"
   ]
  },
  {
   "cell_type": "code",
   "execution_count": 4,
   "metadata": {
    "ExecuteTime": {
     "end_time": "2017-11-27T03:59:05.354024Z",
     "start_time": "2017-11-27T03:59:05.342154Z"
    }
   },
   "outputs": [
    {
     "name": "stdout",
     "output_type": "stream",
     "text": [
      "(3, 4)\n",
      "12\n"
     ]
    }
   ],
   "source": [
    "tensor = nd.random_normal(0, 1, shape=(3,4))\n",
    "print(tensor.shape)\n",
    "print(tensor.size)"
   ]
  },
  {
   "cell_type": "markdown",
   "metadata": {},
   "source": [
    "## 操作"
   ]
  },
  {
   "cell_type": "code",
   "execution_count": 5,
   "metadata": {
    "ExecuteTime": {
     "end_time": "2017-11-27T03:59:06.940278Z",
     "start_time": "2017-11-27T03:59:06.924084Z"
    },
    "collapsed": true
   },
   "outputs": [],
   "source": [
    "shape=(3,4)\n",
    "x = nd.ones(shape)\n",
    "y = nd.random_normal(0, 1, shape=shape)"
   ]
  },
  {
   "cell_type": "code",
   "execution_count": 6,
   "metadata": {
    "ExecuteTime": {
     "end_time": "2017-11-27T03:59:08.238273Z",
     "start_time": "2017-11-27T03:59:08.201545Z"
    }
   },
   "outputs": [
    {
     "data": {
      "text/plain": [
       "\n",
       "[[ 1.79687119  1.85240507  1.61860609  1.47654879]\n",
       " [ 1.74863517  1.55032933  0.77433252 -1.11320662]\n",
       " [ 0.04251927  1.3256073   0.05152243  1.77750111]]\n",
       "<NDArray 3x4 @cpu(0)>"
      ]
     },
     "execution_count": 6,
     "metadata": {},
     "output_type": "execute_result"
    }
   ],
   "source": [
    "x + y # 逐元素相加"
   ]
  },
  {
   "cell_type": "code",
   "execution_count": 7,
   "metadata": {
    "ExecuteTime": {
     "end_time": "2017-11-27T03:59:08.995800Z",
     "start_time": "2017-11-27T03:59:08.973997Z"
    }
   },
   "outputs": [
    {
     "data": {
      "text/plain": [
       "\n",
       "[[ 0.79687113  0.85240501  0.61860603  0.47654876]\n",
       " [ 0.74863517  0.55032933 -0.22566749 -2.11320662]\n",
       " [-0.95748073  0.32560727 -0.94847757  0.77750117]]\n",
       "<NDArray 3x4 @cpu(0)>"
      ]
     },
     "execution_count": 7,
     "metadata": {},
     "output_type": "execute_result"
    }
   ],
   "source": [
    "x * y # 逐元素相乘"
   ]
  },
  {
   "cell_type": "code",
   "execution_count": 8,
   "metadata": {
    "ExecuteTime": {
     "end_time": "2017-11-27T03:59:09.824866Z",
     "start_time": "2017-11-27T03:59:09.806623Z"
    }
   },
   "outputs": [
    {
     "data": {
      "text/plain": [
       "\n",
       "[[ 2.21858835  2.34528041  1.8563385   1.61050653]\n",
       " [ 2.11411262  1.7338239   0.79798341  0.12084983]\n",
       " [ 0.38385871  1.38487136  0.38733026  2.17602801]]\n",
       "<NDArray 3x4 @cpu(0)>"
      ]
     },
     "execution_count": 8,
     "metadata": {},
     "output_type": "execute_result"
    }
   ],
   "source": [
    "nd.exp(y) # 每个元素取指数"
   ]
  },
  {
   "cell_type": "code",
   "execution_count": 9,
   "metadata": {
    "ExecuteTime": {
     "end_time": "2017-11-27T03:59:10.555029Z",
     "start_time": "2017-11-27T03:59:10.518449Z"
    }
   },
   "outputs": [
    {
     "data": {
      "text/plain": [
       "\n",
       "[[ 2.74443078 -1.0399096  -0.80284995]\n",
       " [ 2.74443078 -1.0399096  -0.80284995]\n",
       " [ 2.74443078 -1.0399096  -0.80284995]]\n",
       "<NDArray 3x3 @cpu(0)>"
      ]
     },
     "execution_count": 9,
     "metadata": {},
     "output_type": "execute_result"
    }
   ],
   "source": [
    "nd.dot(x, y.T) # 矩阵乘"
   ]
  },
  {
   "cell_type": "code",
   "execution_count": 10,
   "metadata": {
    "ExecuteTime": {
     "end_time": "2017-11-27T03:59:11.097538Z",
     "start_time": "2017-11-27T03:59:11.078599Z"
    }
   },
   "outputs": [
    {
     "data": {
      "text/plain": [
       "\n",
       "[[ 0.  1.  2.]\n",
       " [ 3.  4.  5.]\n",
       " [ 6.  7.  8.]]\n",
       "<NDArray 3x3 @cpu(0)>"
      ]
     },
     "execution_count": 10,
     "metadata": {},
     "output_type": "execute_result"
    }
   ],
   "source": [
    "# Reshape\n",
    "nd.arange(0,9).reshape((3,3))"
   ]
  },
  {
   "cell_type": "markdown",
   "metadata": {},
   "source": [
    "## 原地操作"
   ]
  },
  {
   "cell_type": "code",
   "execution_count": 11,
   "metadata": {
    "ExecuteTime": {
     "end_time": "2017-11-27T03:59:13.290286Z",
     "start_time": "2017-11-27T03:59:13.277894Z"
    }
   },
   "outputs": [
    {
     "data": {
      "text/plain": [
       "\n",
       "[[ 3.39061356  3.55721521  2.85581827  2.42964625]\n",
       " [ 3.2459054   2.6509881   0.32299757 -5.33961964]\n",
       " [-1.87244225  1.9768219  -1.84543276  3.33250332]]\n",
       "<NDArray 3x4 @cpu(0)>"
      ]
     },
     "execution_count": 11,
     "metadata": {},
     "output_type": "execute_result"
    }
   ],
   "source": [
    "x = x + y # x的内存地址变化了\n",
    "x[:] = x + y # x的内存地址不变\n",
    "x += y # x的内存地址不变\n",
    "x"
   ]
  },
  {
   "cell_type": "markdown",
   "metadata": {
    "ExecuteTime": {
     "end_time": "2017-11-15T04:02:50.902041Z",
     "start_time": "2017-11-15T04:02:50.896727Z"
    }
   },
   "source": [
    "## Broadcasting"
   ]
  },
  {
   "cell_type": "code",
   "execution_count": 12,
   "metadata": {
    "ExecuteTime": {
     "end_time": "2017-11-27T03:59:15.138885Z",
     "start_time": "2017-11-27T03:59:15.125829Z"
    }
   },
   "outputs": [
    {
     "name": "stdout",
     "output_type": "stream",
     "text": [
      "x's shape is (3, 4)\n",
      "z's shape is (4,)\n"
     ]
    },
    {
     "data": {
      "text/plain": [
       "\n",
       "[[ 4.39061356  4.55721521  3.85581827  3.42964625]\n",
       " [ 4.2459054   3.6509881   1.32299757 -4.33961964]\n",
       " [-0.87244225  2.9768219  -0.84543276  4.33250332]]\n",
       "<NDArray 3x4 @cpu(0)>"
      ]
     },
     "execution_count": 12,
     "metadata": {},
     "output_type": "execute_result"
    }
   ],
   "source": [
    "z = nd.ones(shape=(4,))\n",
    "print(\"x's shape is {0}\\nz's shape is {1}\".format(x.shape, z.shape))\n",
    "x + z"
   ]
  }
 ],
 "metadata": {
  "kernelspec": {
   "display_name": "Python 3",
   "language": "python",
   "name": "python3"
  },
  "language_info": {
   "codemirror_mode": {
    "name": "ipython",
    "version": 3
   },
   "file_extension": ".py",
   "mimetype": "text/x-python",
   "name": "python",
   "nbconvert_exporter": "python",
   "pygments_lexer": "ipython3",
   "version": "3.6.2"
  }
 },
 "nbformat": 4,
 "nbformat_minor": 2
}
