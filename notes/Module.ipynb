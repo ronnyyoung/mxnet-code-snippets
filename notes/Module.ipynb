{
 "cells": [
  {
   "cell_type": "markdown",
   "metadata": {},
   "source": [
    "# 利用Module模块把构建的神经网络跑起来"
   ]
  },
  {
   "cell_type": "markdown",
   "metadata": {},
   "source": [
    "训练一个神经网络往往只需要简单的几步：\n",
    "\n",
    "1. 准备训练数据\n",
    "2. 初始化模型的参数\n",
    "3. 模型向往计算与向后计算\n",
    "4. 更新模型参数\n",
    "5. 设置相关的checkpoint\n",
    "\n",
    "如果上述的每个步骤都需要我们写Python的代码去一步步实现，未免显的繁琐，好在MXNet提供了Module模块来解决这个问题，Module把训练和推理中一些常用到的步骤代码进行了封装。对于一定已经用Symbol定义好的神经网络，我们可以很容易的使用Module提供的一些高层次接口或一些中间层次的接口来让整个训练或推理容易操作起来。"
   ]
  },
  {
   "cell_type": "markdown",
   "metadata": {},
   "source": [
    "下面我们将通过在[UCI letter recognition](https://archive.ics.uci.edu/ml/datasets/letter+recognition)数据集上训练一个多层感知机来说明Module模块的用法。"
   ]
  },
  {
   "cell_type": "markdown",
   "metadata": {},
   "source": [
    "## 第一步 加载一个数据集\n",
    "\n",
    "我们先下载一个数据集，然后按80：20的比例划分训练集与测试集。我们通过MXNet的IO模块提供的数据迭代器每次返回一个batch size =32的训练样本"
   ]
  },
  {
   "cell_type": "code",
   "execution_count": 4,
   "metadata": {
    "ExecuteTime": {
     "end_time": "2018-03-15T00:49:45.039792Z",
     "start_time": "2018-03-15T00:49:41.744767Z"
    }
   },
   "outputs": [
    {
     "name": "stderr",
     "output_type": "stream",
     "text": [
      "INFO:root:downloaded http://archive.ics.uci.edu/ml/machine-learning-databases/letter-recognition/letter-recognition.data into letter-recognition.data successfully\n"
     ]
    }
   ],
   "source": [
    "import logging\n",
    "logging.getLogger().setLevel(logging.INFO)\n",
    "import mxnet as mx\n",
    "import numpy as np\n",
    "\n",
    "# 数据以文本形式保存，每行一个样本，每一行数据之间用','分割，每一个字符为label\n",
    "fname = mx.test_utils.download('http://archive.ics.uci.edu/ml/machine-learning-databases/letter-recognition/letter-recognition.data')\n",
    "data = np.genfromtxt(fname, delimiter=',')[:,1:]\n",
    "label = np.array([ord(l.split(',')[0])-ord('A') for l in open(fname, 'r')])\n",
    "\n",
    "batch_size = 32\n",
    "ntrain = int(data.shape[0]*0.8)\n",
    "train_iter = mx.io.NDArrayIter(data[:ntrain, :], label[:ntrain], batch_size, shuffle=True)\n",
    "val_iter = mx.io.NDArrayIter(data[ntrain:, :], label[ntrain:], batch_size)"
   ]
  },
  {
   "cell_type": "markdown",
   "metadata": {
    "ExecuteTime": {
     "end_time": "2018-03-15T00:50:17.783594Z",
     "start_time": "2018-03-15T00:50:17.776433Z"
    }
   },
   "source": [
    "## 第二步 定义一个network"
   ]
  },
  {
   "cell_type": "code",
   "execution_count": 27,
   "metadata": {
    "ExecuteTime": {
     "end_time": "2018-03-15T01:53:26.036549Z",
     "start_time": "2018-03-15T01:53:26.018793Z"
    }
   },
   "outputs": [],
   "source": [
    "net = mx.sym.var('data')\n",
    "net = mx.sym.FullyConnected(data=net, name='fc1', num_hidden=64)\n",
    "net = mx.sym.Activation(data=net, name='relu1', act_type='relu')\n",
    "net = mx.sym.FullyConnected(data=net, name='fc2', num_hidden=26)\n",
    "net = mx.sym.SoftmaxOutput(net, name='softmax')\n",
    "graph = mx.viz.plot_network(net)"
   ]
  },
  {
   "cell_type": "code",
   "execution_count": 28,
   "metadata": {
    "ExecuteTime": {
     "end_time": "2018-03-15T01:53:40.434582Z",
     "start_time": "2018-03-15T01:53:40.425705Z"
    },
    "collapsed": true
   },
   "outputs": [],
   "source": [
    "graph.view?\n"
   ]
  },
  {
   "cell_type": "markdown",
   "metadata": {},
   "source": [
    "## 第三步 创建一个Module\n",
    "\n",
    "我们可以通过`mx.mod.Module`接口创建一个Module对象，它接收下面几个参数：\n",
    "\n",
    "- `symbol`:神经网络的定义\n",
    "- `context`：执行运算的设备\n",
    "- `data_names`：网络输入数据的列表\n",
    "- `label_names`：网络输入标签的列表\n",
    "\n",
    "对于我们在第二步定义的net，只有一个输入数据即data，输入标签名为softmax_label，这个是我们在使用SoftmaxOutput操作时，自动命名的。"
   ]
  },
  {
   "cell_type": "code",
   "execution_count": 11,
   "metadata": {
    "ExecuteTime": {
     "end_time": "2018-03-15T01:03:54.520068Z",
     "start_time": "2018-03-15T01:03:54.513159Z"
    },
    "collapsed": true
   },
   "outputs": [],
   "source": [
    "mod = mx.mod.Module(symbol=net, \n",
    "                    context=mx.cpu(), \n",
    "                    data_names=['data'], \n",
    "                    label_names=['softmax_label'])"
   ]
  },
  {
   "cell_type": "markdown",
   "metadata": {
    "ExecuteTime": {
     "end_time": "2018-03-15T01:02:52.503241Z",
     "start_time": "2018-03-15T01:02:52.495807Z"
    }
   },
   "source": [
    "## Module的中间层次的接口\n",
    "\n",
    "中间层次的接口主要是为了给开发者足够的灵活性，也方便排查问题。我们下面会先列出来Moduel模块有哪些常见的中间层API，然后再利用这个API来训练我们刚才定义的网络。\n",
    "\n",
    "- `bind`：绑定输入数据的形状，分配内存\n",
    "- `init_params`：初始化网络参数\n",
    "- `init_optimizer`：指定优化方法，比如`sgd`\n",
    "- `metric.create`：指定评价方法\n",
    "- `forward`：向前计算\n",
    "- `update_metric`：根据上一次的forward结果，更新评价指标\n",
    "- `backward`：反射传播\n",
    "- `update`：根据优化方法和梯度更新模型的参数"
   ]
  },
  {
   "cell_type": "code",
   "execution_count": 13,
   "metadata": {
    "ExecuteTime": {
     "end_time": "2018-03-15T01:14:59.933650Z",
     "start_time": "2018-03-15T01:14:57.922977Z"
    }
   },
   "outputs": [
    {
     "name": "stdout",
     "output_type": "stream",
     "text": [
      "Epoch 0, Training ('accuracy', 0.44550000000000001)\n",
      "Epoch 1, Training ('accuracy', 0.65812499999999996)\n",
      "Epoch 2, Training ('accuracy', 0.7099375)\n",
      "Epoch 3, Training ('accuracy', 0.74581249999999999)\n",
      "Epoch 4, Training ('accuracy', 0.76706249999999998)\n"
     ]
    }
   ],
   "source": [
    "# allocate memory given the input data and label shapes\n",
    "mod.bind(data_shapes=train_iter.provide_data, label_shapes=train_iter.provide_label)\n",
    "# initialize parameters by uniform random numbers\n",
    "mod.init_params(initializer=mx.init.Uniform(scale=.1))\n",
    "# use SGD with learning rate 0.1 to train\n",
    "mod.init_optimizer(optimizer='sgd', optimizer_params=(('learning_rate', 0.1), ))\n",
    "# use accuracy as the metric\n",
    "metric = mx.metric.create('acc')\n",
    "# train 5 epochs, i.e. going over the data iter one pass\n",
    "for epoch in range(5):\n",
    "    train_iter.reset()\n",
    "    metric.reset()\n",
    "    for batch in train_iter:\n",
    "        mod.forward(batch, is_train=True)       # compute predictions\n",
    "        mod.update_metric(metric, batch.label)  # accumulate prediction accuracy\n",
    "        mod.backward()                          # compute gradients\n",
    "        mod.update()                            # update parameters\n",
    "    print('Epoch %d, Training %s' % (epoch, metric.get()))"
   ]
  },
  {
   "cell_type": "markdown",
   "metadata": {},
   "source": [
    "## Module 高层次的API\n",
    "\n",
    "### 训练\n",
    "\n",
    "`Moudle`模块同时提供了高层次的API来完成训练、预测和评估。不像使用中间层次API那样繁琐，我们只需要一个接口`fit`就可以完成上面的步骤。"
   ]
  },
  {
   "cell_type": "code",
   "execution_count": 14,
   "metadata": {
    "ExecuteTime": {
     "end_time": "2018-03-15T01:19:12.320716Z",
     "start_time": "2018-03-15T01:19:09.048856Z"
    }
   },
   "outputs": [
    {
     "name": "stderr",
     "output_type": "stream",
     "text": [
      "INFO:root:Epoch[0] Train-accuracy=0.364187\n",
      "INFO:root:Epoch[0] Time cost=0.419\n",
      "INFO:root:Epoch[0] Validation-accuracy=0.483000\n",
      "INFO:root:Epoch[1] Train-accuracy=0.632500\n",
      "INFO:root:Epoch[1] Time cost=0.430\n",
      "INFO:root:Epoch[1] Validation-accuracy=0.596500\n",
      "INFO:root:Epoch[2] Train-accuracy=0.701375\n",
      "INFO:root:Epoch[2] Time cost=0.382\n",
      "INFO:root:Epoch[2] Validation-accuracy=0.613000\n",
      "INFO:root:Epoch[3] Train-accuracy=0.743188\n",
      "INFO:root:Epoch[3] Time cost=0.301\n",
      "INFO:root:Epoch[3] Validation-accuracy=0.624500\n",
      "INFO:root:Epoch[4] Train-accuracy=0.765125\n",
      "INFO:root:Epoch[4] Time cost=0.293\n",
      "INFO:root:Epoch[4] Validation-accuracy=0.644250\n",
      "INFO:root:Epoch[5] Train-accuracy=0.779062\n",
      "INFO:root:Epoch[5] Time cost=0.288\n",
      "INFO:root:Epoch[5] Validation-accuracy=0.740000\n",
      "INFO:root:Epoch[6] Train-accuracy=0.792188\n",
      "INFO:root:Epoch[6] Time cost=0.374\n",
      "INFO:root:Epoch[6] Validation-accuracy=0.735500\n",
      "INFO:root:Epoch[7] Train-accuracy=0.798375\n",
      "INFO:root:Epoch[7] Time cost=0.339\n",
      "INFO:root:Epoch[7] Validation-accuracy=0.761750\n"
     ]
    }
   ],
   "source": [
    "# reset train_iter to the beginning\n",
    "train_iter.reset()\n",
    "\n",
    "# create a module\n",
    "mod = mx.mod.Module(symbol=net,\n",
    "                    context=mx.cpu(),\n",
    "                    data_names=['data'],\n",
    "                    label_names=['softmax_label'])\n",
    "\n",
    "# fit the module\n",
    "mod.fit(train_iter,\n",
    "        eval_data=val_iter,\n",
    "        optimizer='sgd',\n",
    "        optimizer_params={'learning_rate':0.1},\n",
    "        eval_metric='acc',\n",
    "        num_epoch=8)"
   ]
  },
  {
   "cell_type": "markdown",
   "metadata": {},
   "source": [
    "### 预测和评估\n",
    "\n",
    "使用`Moudle.predict`可以得到数据的predict的结果。如果我们对结果不关心，我们可以使用`score`接口直接计算验证数据集的准确率。"
   ]
  },
  {
   "cell_type": "code",
   "execution_count": 15,
   "metadata": {
    "ExecuteTime": {
     "end_time": "2018-03-15T01:23:02.451515Z",
     "start_time": "2018-03-15T01:23:02.318738Z"
    }
   },
   "outputs": [
    {
     "name": "stdout",
     "output_type": "stream",
     "text": [
      "Accuracy score is 0.761750\n"
     ]
    }
   ],
   "source": [
    "y = mod.predict(val_iter)\n",
    "score = mod.score(val_iter, ['acc'])\n",
    "print(\"Accuracy score is %f\" % (score[0][1]))"
   ]
  },
  {
   "cell_type": "markdown",
   "metadata": {},
   "source": [
    "上面的代码中我们使用了`acc`来计算准确率，我们还可以设置其他评估方法，如：`top_k_acc`,`F1`,`RMSE`,`MSE`,`MAE`,`ce`等。"
   ]
  },
  {
   "cell_type": "markdown",
   "metadata": {},
   "source": [
    "## 训练模型的保存"
   ]
  },
  {
   "cell_type": "markdown",
   "metadata": {},
   "source": [
    "我们可以通过设计一个checkpoint calback来在训练过程中每个epoch结束后保存模型的参数"
   ]
  },
  {
   "cell_type": "code",
   "execution_count": 16,
   "metadata": {
    "ExecuteTime": {
     "end_time": "2018-03-15T01:32:21.508723Z",
     "start_time": "2018-03-15T01:32:19.434317Z"
    }
   },
   "outputs": [
    {
     "name": "stderr",
     "output_type": "stream",
     "text": [
      "INFO:root:Epoch[0] Train-accuracy=0.077188\n",
      "INFO:root:Epoch[0] Time cost=0.416\n",
      "INFO:root:Saved checkpoint to \"mx_mlp-0001.params\"\n",
      "INFO:root:Epoch[1] Train-accuracy=0.244562\n",
      "INFO:root:Epoch[1] Time cost=0.430\n",
      "INFO:root:Saved checkpoint to \"mx_mlp-0002.params\"\n",
      "INFO:root:Epoch[2] Train-accuracy=0.444812\n",
      "INFO:root:Epoch[2] Time cost=0.379\n",
      "INFO:root:Saved checkpoint to \"mx_mlp-0003.params\"\n",
      "INFO:root:Epoch[3] Train-accuracy=0.542375\n",
      "INFO:root:Epoch[3] Time cost=0.415\n",
      "INFO:root:Saved checkpoint to \"mx_mlp-0004.params\"\n",
      "INFO:root:Epoch[4] Train-accuracy=0.601125\n",
      "INFO:root:Epoch[4] Time cost=0.361\n",
      "INFO:root:Saved checkpoint to \"mx_mlp-0005.params\"\n"
     ]
    }
   ],
   "source": [
    "# construct a callback function to save checkpoints\n",
    "model_prefix = 'mx_mlp'\n",
    "checkpoint = mx.callback.do_checkpoint(model_prefix)\n",
    "\n",
    "mod = mx.mod.Module(symbol=net)\n",
    "mod.fit(train_iter, num_epoch=5, epoch_end_callback=checkpoint)"
   ]
  },
  {
   "cell_type": "markdown",
   "metadata": {},
   "source": [
    "使用`load_checkpoint`来加载已经保存的模型参数，随后我们可以把这些参数加载到Moudle中"
   ]
  },
  {
   "cell_type": "code",
   "execution_count": 23,
   "metadata": {
    "ExecuteTime": {
     "end_time": "2018-03-15T01:37:38.013090Z",
     "start_time": "2018-03-15T01:37:38.003974Z"
    },
    "collapsed": true
   },
   "outputs": [],
   "source": [
    "sym, arg_params, aux_params = mx.model.load_checkpoint(model_prefix, 3)\n",
    "# assign the loaded parameters to the module\n",
    "mod.set_params(arg_params, aux_params)"
   ]
  },
  {
   "cell_type": "markdown",
   "metadata": {
    "ExecuteTime": {
     "end_time": "2018-03-15T01:36:30.509403Z",
     "start_time": "2018-03-15T01:36:30.503522Z"
    }
   },
   "source": [
    "我们也可以不使用`set_params`，而是直接在`fit`接口中指定已经保存的checkpoint的参数，这些保存的参数会替代fit原本的参数初始化。"
   ]
  },
  {
   "cell_type": "code",
   "execution_count": 25,
   "metadata": {
    "ExecuteTime": {
     "end_time": "2018-03-15T01:39:52.417533Z",
     "start_time": "2018-03-15T01:39:46.731761Z"
    }
   },
   "outputs": [
    {
     "name": "stderr",
     "output_type": "stream",
     "text": [
      "INFO:root:Epoch[3] Train-accuracy=0.542375\n",
      "INFO:root:Epoch[3] Time cost=0.422\n",
      "INFO:root:Epoch[4] Train-accuracy=0.601125\n",
      "INFO:root:Epoch[4] Time cost=0.369\n",
      "INFO:root:Epoch[5] Train-accuracy=0.642375\n",
      "INFO:root:Epoch[5] Time cost=0.288\n",
      "INFO:root:Epoch[6] Train-accuracy=0.675500\n",
      "INFO:root:Epoch[6] Time cost=0.291\n",
      "INFO:root:Epoch[7] Train-accuracy=0.702937\n",
      "INFO:root:Epoch[7] Time cost=0.416\n",
      "INFO:root:Epoch[8] Train-accuracy=0.719000\n",
      "INFO:root:Epoch[8] Time cost=0.371\n",
      "INFO:root:Epoch[9] Train-accuracy=0.733375\n",
      "INFO:root:Epoch[9] Time cost=0.315\n",
      "INFO:root:Epoch[10] Train-accuracy=0.742625\n",
      "INFO:root:Epoch[10] Time cost=0.285\n",
      "INFO:root:Epoch[11] Train-accuracy=0.749313\n",
      "INFO:root:Epoch[11] Time cost=0.281\n",
      "INFO:root:Epoch[12] Train-accuracy=0.756375\n",
      "INFO:root:Epoch[12] Time cost=0.284\n",
      "INFO:root:Epoch[13] Train-accuracy=0.763250\n",
      "INFO:root:Epoch[13] Time cost=0.290\n",
      "INFO:root:Epoch[14] Train-accuracy=0.768813\n",
      "INFO:root:Epoch[14] Time cost=0.289\n",
      "INFO:root:Epoch[15] Train-accuracy=0.774000\n",
      "INFO:root:Epoch[15] Time cost=0.286\n",
      "INFO:root:Epoch[16] Train-accuracy=0.778188\n",
      "INFO:root:Epoch[16] Time cost=0.280\n",
      "INFO:root:Epoch[17] Train-accuracy=0.782438\n",
      "INFO:root:Epoch[17] Time cost=0.288\n",
      "INFO:root:Epoch[18] Train-accuracy=0.786875\n",
      "INFO:root:Epoch[18] Time cost=0.282\n",
      "INFO:root:Epoch[19] Train-accuracy=0.789750\n",
      "INFO:root:Epoch[19] Time cost=0.287\n",
      "INFO:root:Epoch[20] Train-accuracy=0.793750\n",
      "INFO:root:Epoch[20] Time cost=0.292\n"
     ]
    }
   ],
   "source": [
    "mod = mx.mod.Module(symbol=sym)\n",
    "mod.fit(train_iter,\n",
    "        num_epoch=21,\n",
    "        arg_params=arg_params,\n",
    "        aux_params=aux_params,\n",
    "        begin_epoch=3)"
   ]
  },
  {
   "cell_type": "code",
   "execution_count": null,
   "metadata": {
    "collapsed": true
   },
   "outputs": [],
   "source": []
  }
 ],
 "metadata": {
  "kernelspec": {
   "display_name": "Python 3",
   "language": "python",
   "name": "python3"
  },
  "language_info": {
   "codemirror_mode": {
    "name": "ipython",
    "version": 3
   },
   "file_extension": ".py",
   "mimetype": "text/x-python",
   "name": "python",
   "nbconvert_exporter": "python",
   "pygments_lexer": "ipython3",
   "version": "3.6.2"
  }
 },
 "nbformat": 4,
 "nbformat_minor": 2
}
