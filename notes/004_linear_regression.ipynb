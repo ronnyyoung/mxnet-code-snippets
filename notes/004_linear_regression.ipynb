{
 "cells": [
  {
   "cell_type": "markdown",
   "metadata": {},
   "source": [
    "# 从0开始搭建机器学习训练框架\n",
    "\n",
    "reader -> network -> trainer\n"
   ]
  },
  {
   "cell_type": "markdown",
   "metadata": {},
   "source": [
    "- 制作训练数据集\n",
    "- 写一个Reader\n",
    "- 定义网络结构\n",
    "- 定义Loss\n",
    "- 定义权重更新策略\n",
    "\n",
    "然后主要的训练框架如下\n",
    "\n",
    "```python\n",
    "for i in epochs:\n",
    "    data, label in DataIter():\n",
    "        with autograd.record():\n",
    "            y = net(x)\n",
    "            loss = loss(y, y_hat)\n",
    "        loss.backward()\n",
    "        update_params()\n",
    "```\n",
    "\n",
    "通过这一节收获到的技能是：\n",
    "\n",
    "- 了解如何在Python里定义一个Iteration，来生成数据集\n",
    "- 清楚了机器学习训练的一般流程和部件"
   ]
  },
  {
   "cell_type": "code",
   "execution_count": 1,
   "metadata": {
    "ExecuteTime": {
     "end_time": "2017-12-01T06:06:43.362188Z",
     "start_time": "2017-12-01T06:06:42.645641Z"
    },
    "collapsed": true
   },
   "outputs": [],
   "source": [
    "from mxnet import ndarray as nd\n",
    "from mxnet import autograd"
   ]
  },
  {
   "cell_type": "markdown",
   "metadata": {},
   "source": [
    "# 创建数据集"
   ]
  },
  {
   "cell_type": "code",
   "execution_count": 2,
   "metadata": {
    "ExecuteTime": {
     "end_time": "2017-12-01T06:06:43.378206Z",
     "start_time": "2017-12-01T06:06:43.364802Z"
    },
    "collapsed": true
   },
   "outputs": [],
   "source": [
    "num_inputs = 2\n",
    "num_examples = 1000\n",
    "\n",
    "true_w = [2, -3.4]\n",
    "true_b = 4.2\n",
    "\n",
    "X = nd.random.normal(shape=(1000,2))\n",
    "y = X[:,0] * true_w[0] + X[:, 1] * true_w[1] + true_b;\n",
    "y_hat = y + 0.01 * nd.random_normal(0,1, shape=y.shape)"
   ]
  },
  {
   "cell_type": "markdown",
   "metadata": {},
   "source": [
    "# 数据可视化"
   ]
  },
  {
   "cell_type": "code",
   "execution_count": 3,
   "metadata": {
    "ExecuteTime": {
     "end_time": "2017-12-01T06:06:43.690946Z",
     "start_time": "2017-12-01T06:06:43.381127Z"
    },
    "collapsed": true
   },
   "outputs": [],
   "source": [
    "import matplotlib.pyplot as plt"
   ]
  },
  {
   "cell_type": "code",
   "execution_count": 4,
   "metadata": {
    "ExecuteTime": {
     "end_time": "2017-12-01T06:06:43.878187Z",
     "start_time": "2017-12-01T06:06:43.693389Z"
    }
   },
   "outputs": [
    {
     "data": {
      "image/png": "[encoded data removed]",
      "text/plain": [
       "<matplotlib.figure.Figure at 0x7f5c0abd1dd8>"
      ]
     },
     "metadata": {},
     "output_type": "display_data"
    }
   ],
   "source": [
    "plt.scatter(X[:,1].asnumpy(), y.asnumpy())\n",
    "plt.show()"
   ]
  },
  {
   "cell_type": "markdown",
   "metadata": {},
   "source": [
    "# 定义Reader"
   ]
  },
  {
   "cell_type": "code",
   "execution_count": 5,
   "metadata": {
    "ExecuteTime": {
     "end_time": "2017-12-01T06:06:43.897690Z",
     "start_time": "2017-12-01T06:06:43.881701Z"
    },
    "collapsed": true
   },
   "outputs": [],
   "source": [
    "import random\n",
    "batch_size = 10\n",
    "def data_iter(X, y, doshuffle=True):\n",
    "    # 产生一个随机索引\n",
    "    idx = list(range(num_examples))\n",
    "    if doshuffle:\n",
    "        random.shuffle(idx)\n",
    "    for i in range(0, num_examples, batch_size):\n",
    "        j = nd.array(idx[i:min(i+batch_size,num_examples)])\n",
    "        yield nd.take(X, j), nd.take(y, j)"
   ]
  },
  {
   "cell_type": "code",
   "execution_count": 6,
   "metadata": {
    "ExecuteTime": {
     "end_time": "2017-12-01T06:06:44.008452Z",
     "start_time": "2017-12-01T06:06:43.901402Z"
    }
   },
   "outputs": [
    {
     "name": "stdout",
     "output_type": "stream",
     "text": [
      "\n",
      "[[-1.17618942  1.02423871]\n",
      " [ 0.83432126 -0.30592811]\n",
      " [-1.88524187 -0.84348118]\n",
      " [-0.68789554 -0.89566213]\n",
      " [-0.29877052  1.64374375]\n",
      " [-0.8813321   0.94868982]\n",
      " [ 0.65387917 -0.94953394]\n",
      " [-0.26636696  0.71143317]\n",
      " [ 2.14899468 -0.64691925]\n",
      " [ 0.49555334  0.16332558]]\n",
      "<NDArray 10x2 @cpu(0)> \n",
      "[ -1.62617755   6.91625595   3.2915144    5.87868214  -1.97098565\n",
      "  -0.79151291   8.74401665   1.24705625  10.68881798   4.63490772]\n",
      "<NDArray 10 @cpu(0)>\n"
     ]
    }
   ],
   "source": [
    "for data, label in data_iter(X, y_hat):\n",
    "    print(data, label)\n",
    "    break"
   ]
  },
  {
   "cell_type": "markdown",
   "metadata": {},
   "source": [
    "# 定义模型"
   ]
  },
  {
   "cell_type": "code",
   "execution_count": 7,
   "metadata": {
    "ExecuteTime": {
     "end_time": "2017-12-01T06:06:44.095106Z",
     "start_time": "2017-12-01T06:06:44.010846Z"
    },
    "collapsed": true
   },
   "outputs": [],
   "source": [
    "def net(x, params):\n",
    "    return nd.dot(x, params[0]) + params[1]"
   ]
  },
  {
   "cell_type": "markdown",
   "metadata": {},
   "source": [
    "# 定义loss"
   ]
  },
  {
   "cell_type": "code",
   "execution_count": 8,
   "metadata": {
    "ExecuteTime": {
     "end_time": "2017-12-01T06:06:44.221435Z",
     "start_time": "2017-12-01T06:06:44.098559Z"
    },
    "collapsed": true
   },
   "outputs": [],
   "source": [
    "def square_loss(y, y_hat):\n",
    "    return nd.sum(nd.square(y.reshape(y_hat.shape) - y_hat))"
   ]
  },
  {
   "cell_type": "markdown",
   "metadata": {},
   "source": [
    "#  初始化参数及训练"
   ]
  },
  {
   "cell_type": "code",
   "execution_count": 9,
   "metadata": {
    "ExecuteTime": {
     "end_time": "2017-12-01T06:06:45.529164Z",
     "start_time": "2017-12-01T06:06:44.224702Z"
    }
   },
   "outputs": [
    {
     "name": "stdout",
     "output_type": "stream",
     "text": [
      "epoch = 0, loss = 1.0242459716796875\n",
      "epoch = 1, loss = 9.492580592632294e-05\n",
      "epoch = 2, loss = 9.564822912216187e-05\n",
      "epoch = 3, loss = 9.59952250123024e-05\n",
      "epoch = 4, loss = 9.609189629554749e-05\n",
      "epoch = 5, loss = 9.590161591768265e-05\n",
      "epoch = 6, loss = 9.540844708681106e-05\n",
      "epoch = 7, loss = 9.558574110269546e-05\n",
      "epoch = 8, loss = 9.526292979717255e-05\n",
      "epoch = 9, loss = 9.454186260700225e-05\n"
     ]
    },
    {
     "data": {
      "image/png": "[encoded data removed]",
      "text/plain": [
       "<matplotlib.figure.Figure at 0x7f5ca925e278>"
      ]
     },
     "metadata": {},
     "output_type": "display_data"
    }
   ],
   "source": [
    "w = nd.random_normal(shape=(num_inputs, 1))\n",
    "b = nd.zeros(shape=(1,))\n",
    "params = [w, b]\n",
    "for param in params:\n",
    "    param.attach_grad()\n",
    "    \n",
    "    \n",
    "def SGD(params, lr):\n",
    "    for param in params:\n",
    "        param -= lr * param.grad\n",
    "\n",
    "epoch = 10\n",
    "learning_rate = 0.01\n",
    "\n",
    "iter_loss=[]\n",
    "for i in range(epoch):\n",
    "    totle_loss = 0\n",
    "    for data, label in data_iter(X, y_hat):\n",
    "        with autograd.record():\n",
    "            y = net(data, params)\n",
    "            loss = square_loss(y, label)\n",
    "        totle_loss += loss\n",
    "        iter_loss.append(loss.asscalar())\n",
    "        loss.backward()\n",
    "        SGD(params, learning_rate)\n",
    "    print('epoch = {}, loss = {}'.format(i, totle_loss.asscalar() / num_examples))\n",
    "\n",
    "plt.plot(iter_loss)\n",
    "plt.show()"
   ]
  },
  {
   "cell_type": "code",
   "execution_count": 10,
   "metadata": {
    "ExecuteTime": {
     "end_time": "2017-12-01T06:06:45.536995Z",
     "start_time": "2017-12-01T06:06:45.531175Z"
    }
   },
   "outputs": [
    {
     "name": "stdout",
     "output_type": "stream",
     "text": [
      "trained params w = [[ 1.99962962]\n",
      " [-3.40039372]], the true w = [2, -3.4]\n",
      "trained params b = [ 4.19955158], the true b = 4.2\n"
     ]
    }
   ],
   "source": [
    "print('trained params w = {}, the true w = {}'.format(params[0].asnumpy(), true_w))\n",
    "print('trained params b = {}, the true b = {}'.format(params[1].asnumpy(), true_b))"
   ]
  },
  {
   "cell_type": "markdown",
   "metadata": {
    "collapsed": true
   },
   "source": [
    "# 使用GluonAPI\n",
    "\n",
    "- 了解gluon.data模块\n",
    "- 了解gluon.nn.Sequential模块\n",
    "- 了解gluon.loss模块\n",
    "- 了解gluon.Trainer模块\n",
    "\n",
    "[Gluon API Reference](https://github.com/gluon-api/gluon-api)"
   ]
  },
  {
   "cell_type": "code",
   "execution_count": 11,
   "metadata": {
    "ExecuteTime": {
     "end_time": "2017-12-01T06:06:45.667181Z",
     "start_time": "2017-12-01T06:06:45.538847Z"
    },
    "collapsed": true
   },
   "outputs": [],
   "source": [
    "from mxnet import gluon\n",
    "batch_size = 10\n",
    "# Step 1： 定义Reader\n",
    "dataset = gluon.data.ArrayDataset(X, y_hat)\n",
    "data_iter = gluon.data.DataLoader(dataset, batch_size, shuffle=True)\n",
    "# Step 2: 定义模型\n",
    "net = gluon.nn.Sequential()\n",
    "net.add(gluon.nn.Dense(1))\n",
    "net.initialize() # 初始化模型的参数 \n",
    "# Step3: 定义损失函数\n",
    "square_loss = gluon.loss.L2Loss()\n",
    "# Step4: 定义Trainer\n",
    "trainer = gluon.Trainer(net.collect_params(), 'sgd', {'learning_rate':0.1})"
   ]
  },
  {
   "cell_type": "code",
   "execution_count": 12,
   "metadata": {
    "ExecuteTime": {
     "end_time": "2017-12-01T06:06:47.406070Z",
     "start_time": "2017-12-01T06:06:45.670111Z"
    }
   },
   "outputs": [
    {
     "name": "stdout",
     "output_type": "stream",
     "text": [
      "epoch = 0, loss = 0.8937698758317274\n",
      "epoch = 1, loss = 4.6691692390595566e-05\n",
      "epoch = 2, loss = 4.671812310698442e-05\n",
      "epoch = 3, loss = 4.605487792287022e-05\n",
      "epoch = 4, loss = 4.640179446869297e-05\n",
      "epoch = 5, loss = 4.634672907559434e-05\n",
      "epoch = 6, loss = 4.692029506259132e-05\n",
      "epoch = 7, loss = 4.6679022008902396e-05\n",
      "epoch = 8, loss = 4.6538609101844484e-05\n",
      "epoch = 9, loss = 4.6501884018653074e-05\n"
     ]
    },
    {
     "data": {
      "image/png": "[encoded data removed]",
      "text/plain": [
       "<matplotlib.figure.Figure at 0x7f5befaa3898>"
      ]
     },
     "metadata": {},
     "output_type": "display_data"
    }
   ],
   "source": [
    "epoch = 10\n",
    "iter_loss=[]\n",
    "for i in range(epoch):\n",
    "    total_loss = 0\n",
    "    for data, label in data_iter:\n",
    "        with autograd.record():\n",
    "            y = net(data)\n",
    "            loss = square_loss(y, label)\n",
    "        total_loss += nd.sum(loss).asscalar()\n",
    "        iter_loss.append(nd.sum(loss).asscalar())\n",
    "        loss.backward()\n",
    "        trainer.step(batch_size)\n",
    "    print('epoch = {}, loss = {}'.format(i, total_loss / num_examples))\n",
    "\n",
    "plt.plot(iter_loss)\n",
    "plt.show()"
   ]
  },
  {
   "cell_type": "code",
   "execution_count": 13,
   "metadata": {
    "ExecuteTime": {
     "end_time": "2017-12-01T06:06:47.413316Z",
     "start_time": "2017-12-01T06:06:47.408156Z"
    }
   },
   "outputs": [
    {
     "data": {
      "text/plain": [
       "([2, -3.4], \n",
       " [[ 2.00030875 -3.39994693]]\n",
       " <NDArray 1x2 @cpu(0)>)"
      ]
     },
     "execution_count": 13,
     "metadata": {},
     "output_type": "execute_result"
    }
   ],
   "source": [
    "dense = net[0]\n",
    "true_w, dense.weight.data()"
   ]
  },
  {
   "cell_type": "code",
   "execution_count": 14,
   "metadata": {
    "ExecuteTime": {
     "end_time": "2017-12-01T06:06:47.537588Z",
     "start_time": "2017-12-01T06:06:47.415106Z"
    },
    "scrolled": true
   },
   "outputs": [
    {
     "data": {
      "text/plain": [
       "(4.2, \n",
       " [ 4.20047712]\n",
       " <NDArray 1 @cpu(0)>)"
      ]
     },
     "execution_count": 14,
     "metadata": {},
     "output_type": "execute_result"
    }
   ],
   "source": [
    "true_b, dense.bias.data()"
   ]
  }
 ],
 "metadata": {
  "kernelspec": {
   "display_name": "Python 3",
   "language": "python",
   "name": "python3"
  },
  "language_info": {
   "codemirror_mode": {
    "name": "ipython",
    "version": 3
   },
   "file_extension": ".py",
   "mimetype": "text/x-python",
   "name": "python",
   "nbconvert_exporter": "python",
   "pygments_lexer": "ipython3",
   "version": "3.6.2"
  }
 },
 "nbformat": 4,
 "nbformat_minor": 2
}
